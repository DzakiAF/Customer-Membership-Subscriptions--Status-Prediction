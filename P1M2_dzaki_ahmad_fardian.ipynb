{
 "cells": [
  {
   "cell_type": "markdown",
   "metadata": {},
   "source": [
    "# INTRODUCTION\n",
    "\n",
    "MILESTONE 2\n",
    "\n",
    "BY      : DZAKI AHMAD FARDIAN\n",
    "\n",
    "BATCH   : FTDS HCK-024\n",
    "\n",
    "In this opportunities i want to make a project for Machine Learning Creation using Supervised Classification. The algorithms i used in this project are as follows: KNN, SVM, Decision Tree, Random Forest, and XGBoost. In this project i will use Shopping Behaviour dataset. The purpose of this project is to predict whether a customer will join shopping membership or not. Also i will evaluate each models that i made with F1-Score as evaluation scoring. After the evaluation the best model would be saved and deployed as demo."
   ]
  },
  {
   "cell_type": "markdown",
   "metadata": {},
   "source": [
    "# IMPPORT LIBRARIES"
   ]
  },
  {
   "cell_type": "code",
   "execution_count": 1,
   "metadata": {},
   "outputs": [],
   "source": [
    "import pandas as pd\n",
    "import numpy as np\n",
    "import matplotlib.pyplot as plt\n",
    "import seaborn as sns\n",
    "import sklearn\n",
    "import pickle\n",
    "from sklearn.preprocessing import StandardScaler, MinMaxScaler\n",
    "from sklearn.preprocessing import OneHotEncoder, LabelEncoder\n",
    "from sklearn.preprocessing import FunctionTransformer\n",
    "from sklearn.compose import ColumnTransformer, make_column_selector as selector\n",
    "from sklearn.pipeline import Pipeline\n",
    "from sklearn.tree import DecisionTreeClassifier\n",
    "from sklearn.neighbors import KNeighborsClassifier\n",
    "from sklearn.svm import SVC\n",
    "from sklearn.ensemble import RandomForestClassifier\n",
    "from xgboost import XGBClassifier\n",
    "from sklearn.model_selection import GridSearchCV\n",
    "from sklearn.metrics import classification_report, accuracy_score, f1_score\n",
    "from sklearn.model_selection import GridSearchCV, cross_val_score, StratifiedKFold\n",
    "from sklearn.model_selection import train_test_split\n"
   ]
  },
  {
   "cell_type": "markdown",
   "metadata": {},
   "source": [
    "# DATA LOADING"
   ]
  },
  {
   "cell_type": "code",
   "execution_count": 2,
   "metadata": {},
   "outputs": [],
   "source": [
    "df = pd.read_csv(\"shopping_behavior_updated.csv\")"
   ]
  },
  {
   "cell_type": "code",
   "execution_count": 3,
   "metadata": {},
   "outputs": [
    {
     "data": {
      "text/html": [
       "<div>\n",
       "<style scoped>\n",
       "    .dataframe tbody tr th:only-of-type {\n",
       "        vertical-align: middle;\n",
       "    }\n",
       "\n",
       "    .dataframe tbody tr th {\n",
       "        vertical-align: top;\n",
       "    }\n",
       "\n",
       "    .dataframe thead th {\n",
       "        text-align: right;\n",
       "    }\n",
       "</style>\n",
       "<table border=\"1\" class=\"dataframe\">\n",
       "  <thead>\n",
       "    <tr style=\"text-align: right;\">\n",
       "      <th></th>\n",
       "      <th>Customer ID</th>\n",
       "      <th>Age</th>\n",
       "      <th>Gender</th>\n",
       "      <th>Item Purchased</th>\n",
       "      <th>Category</th>\n",
       "      <th>Purchase Amount (USD)</th>\n",
       "      <th>Location</th>\n",
       "      <th>Size</th>\n",
       "      <th>Color</th>\n",
       "      <th>Season</th>\n",
       "      <th>Review Rating</th>\n",
       "      <th>Subscription Status</th>\n",
       "      <th>Shipping Type</th>\n",
       "      <th>Discount Applied</th>\n",
       "      <th>Promo Code Used</th>\n",
       "      <th>Previous Purchases</th>\n",
       "      <th>Payment Method</th>\n",
       "      <th>Frequency of Purchases</th>\n",
       "    </tr>\n",
       "  </thead>\n",
       "  <tbody>\n",
       "    <tr>\n",
       "      <th>0</th>\n",
       "      <td>1</td>\n",
       "      <td>55</td>\n",
       "      <td>Male</td>\n",
       "      <td>Blouse</td>\n",
       "      <td>Clothing</td>\n",
       "      <td>53</td>\n",
       "      <td>Kentucky</td>\n",
       "      <td>L</td>\n",
       "      <td>Gray</td>\n",
       "      <td>Winter</td>\n",
       "      <td>3.1</td>\n",
       "      <td>Yes</td>\n",
       "      <td>Express</td>\n",
       "      <td>Yes</td>\n",
       "      <td>Yes</td>\n",
       "      <td>14</td>\n",
       "      <td>Venmo</td>\n",
       "      <td>Fortnightly</td>\n",
       "    </tr>\n",
       "    <tr>\n",
       "      <th>1</th>\n",
       "      <td>2</td>\n",
       "      <td>19</td>\n",
       "      <td>Male</td>\n",
       "      <td>Sweater</td>\n",
       "      <td>Clothing</td>\n",
       "      <td>64</td>\n",
       "      <td>Maine</td>\n",
       "      <td>L</td>\n",
       "      <td>Maroon</td>\n",
       "      <td>Winter</td>\n",
       "      <td>3.1</td>\n",
       "      <td>Yes</td>\n",
       "      <td>Express</td>\n",
       "      <td>Yes</td>\n",
       "      <td>Yes</td>\n",
       "      <td>2</td>\n",
       "      <td>Cash</td>\n",
       "      <td>Fortnightly</td>\n",
       "    </tr>\n",
       "    <tr>\n",
       "      <th>2</th>\n",
       "      <td>3</td>\n",
       "      <td>50</td>\n",
       "      <td>Male</td>\n",
       "      <td>Jeans</td>\n",
       "      <td>Clothing</td>\n",
       "      <td>73</td>\n",
       "      <td>Massachusetts</td>\n",
       "      <td>S</td>\n",
       "      <td>Maroon</td>\n",
       "      <td>Spring</td>\n",
       "      <td>3.1</td>\n",
       "      <td>Yes</td>\n",
       "      <td>Free Shipping</td>\n",
       "      <td>Yes</td>\n",
       "      <td>Yes</td>\n",
       "      <td>23</td>\n",
       "      <td>Credit Card</td>\n",
       "      <td>Weekly</td>\n",
       "    </tr>\n",
       "    <tr>\n",
       "      <th>3</th>\n",
       "      <td>4</td>\n",
       "      <td>21</td>\n",
       "      <td>Male</td>\n",
       "      <td>Sandals</td>\n",
       "      <td>Footwear</td>\n",
       "      <td>90</td>\n",
       "      <td>Rhode Island</td>\n",
       "      <td>M</td>\n",
       "      <td>Maroon</td>\n",
       "      <td>Spring</td>\n",
       "      <td>3.5</td>\n",
       "      <td>Yes</td>\n",
       "      <td>Next Day Air</td>\n",
       "      <td>Yes</td>\n",
       "      <td>Yes</td>\n",
       "      <td>49</td>\n",
       "      <td>PayPal</td>\n",
       "      <td>Weekly</td>\n",
       "    </tr>\n",
       "    <tr>\n",
       "      <th>4</th>\n",
       "      <td>5</td>\n",
       "      <td>45</td>\n",
       "      <td>Male</td>\n",
       "      <td>Blouse</td>\n",
       "      <td>Clothing</td>\n",
       "      <td>49</td>\n",
       "      <td>Oregon</td>\n",
       "      <td>M</td>\n",
       "      <td>Turquoise</td>\n",
       "      <td>Spring</td>\n",
       "      <td>2.7</td>\n",
       "      <td>Yes</td>\n",
       "      <td>Free Shipping</td>\n",
       "      <td>Yes</td>\n",
       "      <td>Yes</td>\n",
       "      <td>31</td>\n",
       "      <td>PayPal</td>\n",
       "      <td>Annually</td>\n",
       "    </tr>\n",
       "    <tr>\n",
       "      <th>...</th>\n",
       "      <td>...</td>\n",
       "      <td>...</td>\n",
       "      <td>...</td>\n",
       "      <td>...</td>\n",
       "      <td>...</td>\n",
       "      <td>...</td>\n",
       "      <td>...</td>\n",
       "      <td>...</td>\n",
       "      <td>...</td>\n",
       "      <td>...</td>\n",
       "      <td>...</td>\n",
       "      <td>...</td>\n",
       "      <td>...</td>\n",
       "      <td>...</td>\n",
       "      <td>...</td>\n",
       "      <td>...</td>\n",
       "      <td>...</td>\n",
       "      <td>...</td>\n",
       "    </tr>\n",
       "    <tr>\n",
       "      <th>3895</th>\n",
       "      <td>3896</td>\n",
       "      <td>40</td>\n",
       "      <td>Female</td>\n",
       "      <td>Hoodie</td>\n",
       "      <td>Clothing</td>\n",
       "      <td>28</td>\n",
       "      <td>Virginia</td>\n",
       "      <td>L</td>\n",
       "      <td>Turquoise</td>\n",
       "      <td>Summer</td>\n",
       "      <td>4.2</td>\n",
       "      <td>No</td>\n",
       "      <td>2-Day Shipping</td>\n",
       "      <td>No</td>\n",
       "      <td>No</td>\n",
       "      <td>32</td>\n",
       "      <td>Venmo</td>\n",
       "      <td>Weekly</td>\n",
       "    </tr>\n",
       "    <tr>\n",
       "      <th>3896</th>\n",
       "      <td>3897</td>\n",
       "      <td>52</td>\n",
       "      <td>Female</td>\n",
       "      <td>Backpack</td>\n",
       "      <td>Accessories</td>\n",
       "      <td>49</td>\n",
       "      <td>Iowa</td>\n",
       "      <td>L</td>\n",
       "      <td>White</td>\n",
       "      <td>Spring</td>\n",
       "      <td>4.5</td>\n",
       "      <td>No</td>\n",
       "      <td>Store Pickup</td>\n",
       "      <td>No</td>\n",
       "      <td>No</td>\n",
       "      <td>41</td>\n",
       "      <td>Bank Transfer</td>\n",
       "      <td>Bi-Weekly</td>\n",
       "    </tr>\n",
       "    <tr>\n",
       "      <th>3897</th>\n",
       "      <td>3898</td>\n",
       "      <td>46</td>\n",
       "      <td>Female</td>\n",
       "      <td>Belt</td>\n",
       "      <td>Accessories</td>\n",
       "      <td>33</td>\n",
       "      <td>New Jersey</td>\n",
       "      <td>L</td>\n",
       "      <td>Green</td>\n",
       "      <td>Spring</td>\n",
       "      <td>2.9</td>\n",
       "      <td>No</td>\n",
       "      <td>Standard</td>\n",
       "      <td>No</td>\n",
       "      <td>No</td>\n",
       "      <td>24</td>\n",
       "      <td>Venmo</td>\n",
       "      <td>Quarterly</td>\n",
       "    </tr>\n",
       "    <tr>\n",
       "      <th>3898</th>\n",
       "      <td>3899</td>\n",
       "      <td>44</td>\n",
       "      <td>Female</td>\n",
       "      <td>Shoes</td>\n",
       "      <td>Footwear</td>\n",
       "      <td>77</td>\n",
       "      <td>Minnesota</td>\n",
       "      <td>S</td>\n",
       "      <td>Brown</td>\n",
       "      <td>Summer</td>\n",
       "      <td>3.8</td>\n",
       "      <td>No</td>\n",
       "      <td>Express</td>\n",
       "      <td>No</td>\n",
       "      <td>No</td>\n",
       "      <td>24</td>\n",
       "      <td>Venmo</td>\n",
       "      <td>Weekly</td>\n",
       "    </tr>\n",
       "    <tr>\n",
       "      <th>3899</th>\n",
       "      <td>3900</td>\n",
       "      <td>52</td>\n",
       "      <td>Female</td>\n",
       "      <td>Handbag</td>\n",
       "      <td>Accessories</td>\n",
       "      <td>81</td>\n",
       "      <td>California</td>\n",
       "      <td>M</td>\n",
       "      <td>Beige</td>\n",
       "      <td>Spring</td>\n",
       "      <td>3.1</td>\n",
       "      <td>No</td>\n",
       "      <td>Store Pickup</td>\n",
       "      <td>No</td>\n",
       "      <td>No</td>\n",
       "      <td>33</td>\n",
       "      <td>Venmo</td>\n",
       "      <td>Quarterly</td>\n",
       "    </tr>\n",
       "  </tbody>\n",
       "</table>\n",
       "<p>3900 rows × 18 columns</p>\n",
       "</div>"
      ],
      "text/plain": [
       "      Customer ID  Age  Gender Item Purchased     Category  \\\n",
       "0               1   55    Male         Blouse     Clothing   \n",
       "1               2   19    Male        Sweater     Clothing   \n",
       "2               3   50    Male          Jeans     Clothing   \n",
       "3               4   21    Male        Sandals     Footwear   \n",
       "4               5   45    Male         Blouse     Clothing   \n",
       "...           ...  ...     ...            ...          ...   \n",
       "3895         3896   40  Female         Hoodie     Clothing   \n",
       "3896         3897   52  Female       Backpack  Accessories   \n",
       "3897         3898   46  Female           Belt  Accessories   \n",
       "3898         3899   44  Female          Shoes     Footwear   \n",
       "3899         3900   52  Female        Handbag  Accessories   \n",
       "\n",
       "      Purchase Amount (USD)       Location Size      Color  Season  \\\n",
       "0                        53       Kentucky    L       Gray  Winter   \n",
       "1                        64          Maine    L     Maroon  Winter   \n",
       "2                        73  Massachusetts    S     Maroon  Spring   \n",
       "3                        90   Rhode Island    M     Maroon  Spring   \n",
       "4                        49         Oregon    M  Turquoise  Spring   \n",
       "...                     ...            ...  ...        ...     ...   \n",
       "3895                     28       Virginia    L  Turquoise  Summer   \n",
       "3896                     49           Iowa    L      White  Spring   \n",
       "3897                     33     New Jersey    L      Green  Spring   \n",
       "3898                     77      Minnesota    S      Brown  Summer   \n",
       "3899                     81     California    M      Beige  Spring   \n",
       "\n",
       "      Review Rating Subscription Status   Shipping Type Discount Applied  \\\n",
       "0               3.1                 Yes         Express              Yes   \n",
       "1               3.1                 Yes         Express              Yes   \n",
       "2               3.1                 Yes   Free Shipping              Yes   \n",
       "3               3.5                 Yes    Next Day Air              Yes   \n",
       "4               2.7                 Yes   Free Shipping              Yes   \n",
       "...             ...                 ...             ...              ...   \n",
       "3895            4.2                  No  2-Day Shipping               No   \n",
       "3896            4.5                  No    Store Pickup               No   \n",
       "3897            2.9                  No        Standard               No   \n",
       "3898            3.8                  No         Express               No   \n",
       "3899            3.1                  No    Store Pickup               No   \n",
       "\n",
       "     Promo Code Used  Previous Purchases Payment Method Frequency of Purchases  \n",
       "0                Yes                  14          Venmo            Fortnightly  \n",
       "1                Yes                   2           Cash            Fortnightly  \n",
       "2                Yes                  23    Credit Card                 Weekly  \n",
       "3                Yes                  49         PayPal                 Weekly  \n",
       "4                Yes                  31         PayPal               Annually  \n",
       "...              ...                 ...            ...                    ...  \n",
       "3895              No                  32          Venmo                 Weekly  \n",
       "3896              No                  41  Bank Transfer              Bi-Weekly  \n",
       "3897              No                  24          Venmo              Quarterly  \n",
       "3898              No                  24          Venmo                 Weekly  \n",
       "3899              No                  33          Venmo              Quarterly  \n",
       "\n",
       "[3900 rows x 18 columns]"
      ]
     },
     "execution_count": 3,
     "metadata": {},
     "output_type": "execute_result"
    }
   ],
   "source": [
    "df"
   ]
  },
  {
   "cell_type": "markdown",
   "metadata": {},
   "source": [
    "Here's some explanation for columns of this datasets.\n",
    "\n",
    "- Customer ID\t        : Customer ID.\n",
    "- Age\t                : Customer's Age.\n",
    "- Gender\t            : Customer's Gender.\n",
    "- Item Purchased\t    : What kind of items that's purchased. (eg : Sweaters, Sandals, Belt).\n",
    "- Category\t            : Category of items (eg : Clothing, Footwear, Accessories).\n",
    "- Purchase Amount (USD)\t: Customer Spendings for transaction.\n",
    "- Location\t            : Where the customer lives.\n",
    "- Size\t                : Size of items.\n",
    "- Color\t                : Color of items.\n",
    "- Season\t            : When the transactions happens (categorized by season).\n",
    "- Review Rating\t        : Rating for the items.\n",
    "- Subscription Status\t: Membership Status.\n",
    "- Shipping Type\t        : The shipping type that customer choose.\n",
    "- Discount Applied      : Whether or not the items have discount.\n",
    "- Promo Code Used      \t: Wheter or not the customer using promo code.\n",
    "- Previous Purchases\t: previous customer's spending.\n",
    "- Payment Method\t    : Method of the payment.\n",
    "- Frequency of Purchases: How often the customer purchase something."
   ]
  },
  {
   "cell_type": "code",
   "execution_count": 4,
   "metadata": {},
   "outputs": [
    {
     "name": "stdout",
     "output_type": "stream",
     "text": [
      "<class 'pandas.core.frame.DataFrame'>\n",
      "RangeIndex: 3900 entries, 0 to 3899\n",
      "Data columns (total 18 columns):\n",
      " #   Column                  Non-Null Count  Dtype  \n",
      "---  ------                  --------------  -----  \n",
      " 0   Customer ID             3900 non-null   int64  \n",
      " 1   Age                     3900 non-null   int64  \n",
      " 2   Gender                  3900 non-null   object \n",
      " 3   Item Purchased          3900 non-null   object \n",
      " 4   Category                3900 non-null   object \n",
      " 5   Purchase Amount (USD)   3900 non-null   int64  \n",
      " 6   Location                3900 non-null   object \n",
      " 7   Size                    3900 non-null   object \n",
      " 8   Color                   3900 non-null   object \n",
      " 9   Season                  3900 non-null   object \n",
      " 10  Review Rating           3900 non-null   float64\n",
      " 11  Subscription Status     3900 non-null   object \n",
      " 12  Shipping Type           3900 non-null   object \n",
      " 13  Discount Applied        3900 non-null   object \n",
      " 14  Promo Code Used         3900 non-null   object \n",
      " 15  Previous Purchases      3900 non-null   int64  \n",
      " 16  Payment Method          3900 non-null   object \n",
      " 17  Frequency of Purchases  3900 non-null   object \n",
      "dtypes: float64(1), int64(4), object(13)\n",
      "memory usage: 548.6+ KB\n"
     ]
    }
   ],
   "source": [
    "df.info()"
   ]
  },
  {
   "cell_type": "code",
   "execution_count": 5,
   "metadata": {},
   "outputs": [
    {
     "data": {
      "text/plain": [
       "Customer ID               0\n",
       "Age                       0\n",
       "Gender                    0\n",
       "Item Purchased            0\n",
       "Category                  0\n",
       "Purchase Amount (USD)     0\n",
       "Location                  0\n",
       "Size                      0\n",
       "Color                     0\n",
       "Season                    0\n",
       "Review Rating             0\n",
       "Subscription Status       0\n",
       "Shipping Type             0\n",
       "Discount Applied          0\n",
       "Promo Code Used           0\n",
       "Previous Purchases        0\n",
       "Payment Method            0\n",
       "Frequency of Purchases    0\n",
       "dtype: int64"
      ]
     },
     "execution_count": 5,
     "metadata": {},
     "output_type": "execute_result"
    }
   ],
   "source": [
    "df.isnull().sum()"
   ]
  },
  {
   "cell_type": "code",
   "execution_count": 6,
   "metadata": {},
   "outputs": [
    {
     "data": {
      "text/plain": [
       "0"
      ]
     },
     "execution_count": 6,
     "metadata": {},
     "output_type": "execute_result"
    }
   ],
   "source": [
    "df.duplicated().sum()"
   ]
  },
  {
   "cell_type": "code",
   "execution_count": 7,
   "metadata": {},
   "outputs": [],
   "source": [
    "df = df.rename(columns={'Purchase Amount (USD)': 'Purchase Amount'})"
   ]
  },
  {
   "cell_type": "code",
   "execution_count": 8,
   "metadata": {},
   "outputs": [],
   "source": [
    "df.drop(['Customer ID'], axis=1, inplace=True)"
   ]
  },
  {
   "cell_type": "markdown",
   "metadata": {},
   "source": [
    "# EXPLORATORY DATA ANALYSIS (EDA)"
   ]
  },
  {
   "cell_type": "markdown",
   "metadata": {},
   "source": [
    "## Simple Visualization\n",
    "\n",
    "The purpose of this visualization is to show the general distribution of the data."
   ]
  },
  {
   "cell_type": "code",
   "execution_count": 9,
   "metadata": {},
   "outputs": [
    {
     "data": {
      "image/png": "[encoded data removed]",
      "text/plain": [
       "<Figure size 1500x500 with 6 Axes>"
      ]
     },
     "metadata": {},
     "output_type": "display_data"
    }
   ],
   "source": [
    "fig, axes = plt.subplots(nrows=1, ncols=6, figsize=(15, 5))\n",
    "for i, column in enumerate(['Age', 'Gender', 'Review Rating','Purchase Amount', 'Previous Purchases', 'Subscription Status']):\n",
    "    sns.histplot(data=df, x=column, kde=True, ax=axes[i])\n",
    "    axes[i].set_title(column)\n",
    "\n",
    "plt.tight_layout()"
   ]
  },
  {
   "cell_type": "markdown",
   "metadata": {},
   "source": [
    "**INSIGHT**\n",
    "\n",
    "- Our sales distribute evenly based on 'Age'.\n",
    "- Based on 'Gender' we have more Male customer than Female customer.\n",
    "- 'Review Rating' that given by customer varies between 2.X to 5.0\n",
    "- The 'Purchase Amount' is evenly spread.\n",
    "- In case of customer 'Previous Purchases' we can see that its focused more on 2 sides. Alot of customer have small 'Previous Purchases' but there are also alot of them that previously have alot of transaction.\n",
    "- Last thing, most of our customer did not Subscribe to our company. Its around 2/3 of our customers"
   ]
  },
  {
   "cell_type": "markdown",
   "metadata": {},
   "source": [
    "## Heatmap for Correlations"
   ]
  },
  {
   "cell_type": "code",
   "execution_count": 10,
   "metadata": {},
   "outputs": [
    {
     "data": {
      "image/png": "[encoded data removed]",
      "text/plain": [
       "<Figure size 1000x800 with 2 Axes>"
      ]
     },
     "metadata": {},
     "output_type": "display_data"
    }
   ],
   "source": [
    "df_2 = df.copy()\n",
    "\n",
    "df_2['Subscription Status Numeric'] = df_2['Subscription Status'].map({'Yes': 1, 'No': 0})\n",
    "df_2['Gender Numeric'] = df_2['Gender'].map({'Male': 1, 'Female': 0})\n",
    "corr = df_2[['Subscription Status Numeric','Gender Numeric' ,'Age', 'Purchase Amount', 'Review Rating', 'Previous Purchases']].corr(method='kendall')\n",
    "\n",
    "plt.figure(figsize=(10, 8))\n",
    "sns.heatmap(corr, annot=True, cmap='coolwarm', fmt='.2f')\n",
    "plt.title('Heatmap of Kendall Correlations (Including Subscription Status)')\n",
    "plt.show()\n"
   ]
  },
  {
   "cell_type": "code",
   "execution_count": 11,
   "metadata": {},
   "outputs": [
    {
     "data": {
      "text/plain": [
       "Index(['Age', 'Gender', 'Item Purchased', 'Category', 'Purchase Amount',\n",
       "       'Location', 'Size', 'Color', 'Season', 'Review Rating',\n",
       "       'Subscription Status', 'Shipping Type', 'Discount Applied',\n",
       "       'Promo Code Used', 'Previous Purchases', 'Payment Method',\n",
       "       'Frequency of Purchases'],\n",
       "      dtype='object')"
      ]
     },
     "execution_count": 11,
     "metadata": {},
     "output_type": "execute_result"
    }
   ],
   "source": [
    "df.columns"
   ]
  },
  {
   "cell_type": "markdown",
   "metadata": {},
   "source": [
    "On the visualization above, the only one that got correlation with Subscription Status is Gender.\n",
    "\n",
    "Although its correlation is weak, it is still there."
   ]
  },
  {
   "cell_type": "markdown",
   "metadata": {},
   "source": [
    "## Subscription Status vs Purchase Amount\n",
    "\n"
   ]
  },
  {
   "cell_type": "code",
   "execution_count": 12,
   "metadata": {},
   "outputs": [
    {
     "data": {
      "text/plain": [
       "<Axes: xlabel='Subscription Status', ylabel='Purchase Amount'>"
      ]
     },
     "execution_count": 12,
     "metadata": {},
     "output_type": "execute_result"
    },
    {
     "data": {
      "image/png": "[encoded data removed]",
      "text/plain": [
       "<Figure size 640x480 with 1 Axes>"
      ]
     },
     "metadata": {},
     "output_type": "display_data"
    }
   ],
   "source": [
    "sns.barplot(data=df, x=\"Subscription Status\", y=\"Purchase Amount\",hue=\"Subscription Status\", palette=\"bright\")"
   ]
  },
  {
   "cell_type": "markdown",
   "metadata": {},
   "source": [
    "The mean of the purchase amount for subscribed and non-subscribed customers is evenly matched."
   ]
  },
  {
   "cell_type": "markdown",
   "metadata": {},
   "source": [
    "## Subscription Status vs Previous Purchases"
   ]
  },
  {
   "cell_type": "code",
   "execution_count": 13,
   "metadata": {},
   "outputs": [
    {
     "data": {
      "text/plain": [
       "<Axes: xlabel='Subscription Status', ylabel='Previous Purchases'>"
      ]
     },
     "execution_count": 13,
     "metadata": {},
     "output_type": "execute_result"
    },
    {
     "data": {
      "image/png": "[encoded data removed]",
      "text/plain": [
       "<Figure size 640x480 with 1 Axes>"
      ]
     },
     "metadata": {},
     "output_type": "display_data"
    }
   ],
   "source": [
    "sns.barplot(data=df, x=\"Subscription Status\", y=\"Previous Purchases\",hue=\"Subscription Status\", palette=\"bright\")"
   ]
  },
  {
   "cell_type": "markdown",
   "metadata": {},
   "source": [
    "The mean of the Previous Purchases amount for subscribed and non-subscribed customers is also evenly matched."
   ]
  },
  {
   "cell_type": "markdown",
   "metadata": {},
   "source": [
    "## Subscription Status vs Gender\n",
    "\n",
    "Below is the distribution of customer's subscription status based on their gender."
   ]
  },
  {
   "cell_type": "code",
   "execution_count": 14,
   "metadata": {},
   "outputs": [
    {
     "name": "stderr",
     "output_type": "stream",
     "text": [
      "C:\\Users\\ASUS\\AppData\\Local\\Temp\\ipykernel_5896\\64847967.py:5: FutureWarning: \n",
      "\n",
      "Passing `palette` without assigning `hue` is deprecated and will be removed in v0.14.0. Assign the `x` variable to `hue` and set `legend=False` for the same effect.\n",
      "\n",
      "  sns.countplot(data=subset_yes, x='Gender', palette='bright')\n",
      "C:\\Users\\ASUS\\AppData\\Local\\Temp\\ipykernel_5896\\64847967.py:12: FutureWarning: \n",
      "\n",
      "Passing `palette` without assigning `hue` is deprecated and will be removed in v0.14.0. Assign the `x` variable to `hue` and set `legend=False` for the same effect.\n",
      "\n",
      "  sns.countplot(data=subset_no, x='Gender', palette='bright')\n"
     ]
    },
    {
     "data": {
      "image/png": "[encoded data removed]",
      "text/plain": [
       "<Figure size 1600x600 with 2 Axes>"
      ]
     },
     "metadata": {},
     "output_type": "display_data"
    }
   ],
   "source": [
    "plt.figure(figsize=(16, 6)) \n",
    "\n",
    "plt.subplot(1, 2, 1) \n",
    "subset_yes = df[df['Subscription Status'] == 'Yes']\n",
    "sns.countplot(data=subset_yes, x='Gender', palette='bright')\n",
    "plt.title('Gender Distribution for Subscription Status = Yes')\n",
    "plt.xlabel('Gender')\n",
    "plt.ylabel('Count')\n",
    "\n",
    "plt.subplot(1, 2, 2)\n",
    "subset_no = df[df['Subscription Status'] == 'No']\n",
    "sns.countplot(data=subset_no, x='Gender', palette='bright')\n",
    "plt.title('Gender Distribution for Subscription Status = No')\n",
    "plt.xlabel('Gender')\n",
    "plt.ylabel('Count')\n",
    "\n",
    "plt.tight_layout()\n",
    "plt.show()\n"
   ]
  },
  {
   "cell_type": "markdown",
   "metadata": {},
   "source": [
    "**INSIGHT**\n",
    "\n",
    "- As we can see there is no female customer that subscribe to our company.\n",
    "- Most likely, this happened because the product we sell is not attractive enough to them."
   ]
  },
  {
   "cell_type": "markdown",
   "metadata": {},
   "source": [
    "# FEATURE ENGINEERING"
   ]
  },
  {
   "cell_type": "code",
   "execution_count": 15,
   "metadata": {},
   "outputs": [
    {
     "data": {
      "text/html": [
       "<div>\n",
       "<style scoped>\n",
       "    .dataframe tbody tr th:only-of-type {\n",
       "        vertical-align: middle;\n",
       "    }\n",
       "\n",
       "    .dataframe tbody tr th {\n",
       "        vertical-align: top;\n",
       "    }\n",
       "\n",
       "    .dataframe thead th {\n",
       "        text-align: right;\n",
       "    }\n",
       "</style>\n",
       "<table border=\"1\" class=\"dataframe\">\n",
       "  <thead>\n",
       "    <tr style=\"text-align: right;\">\n",
       "      <th></th>\n",
       "      <th>Age</th>\n",
       "      <th>Gender</th>\n",
       "      <th>Item Purchased</th>\n",
       "      <th>Category</th>\n",
       "      <th>Purchase Amount</th>\n",
       "      <th>Location</th>\n",
       "      <th>Size</th>\n",
       "      <th>Color</th>\n",
       "      <th>Season</th>\n",
       "      <th>Review Rating</th>\n",
       "      <th>Shipping Type</th>\n",
       "      <th>Discount Applied</th>\n",
       "      <th>Promo Code Used</th>\n",
       "      <th>Previous Purchases</th>\n",
       "      <th>Payment Method</th>\n",
       "      <th>Frequency of Purchases</th>\n",
       "    </tr>\n",
       "  </thead>\n",
       "  <tbody>\n",
       "    <tr>\n",
       "      <th>0</th>\n",
       "      <td>55</td>\n",
       "      <td>Male</td>\n",
       "      <td>Blouse</td>\n",
       "      <td>Clothing</td>\n",
       "      <td>53</td>\n",
       "      <td>Kentucky</td>\n",
       "      <td>L</td>\n",
       "      <td>Gray</td>\n",
       "      <td>Winter</td>\n",
       "      <td>3.1</td>\n",
       "      <td>Express</td>\n",
       "      <td>Yes</td>\n",
       "      <td>Yes</td>\n",
       "      <td>14</td>\n",
       "      <td>Venmo</td>\n",
       "      <td>Fortnightly</td>\n",
       "    </tr>\n",
       "    <tr>\n",
       "      <th>1</th>\n",
       "      <td>19</td>\n",
       "      <td>Male</td>\n",
       "      <td>Sweater</td>\n",
       "      <td>Clothing</td>\n",
       "      <td>64</td>\n",
       "      <td>Maine</td>\n",
       "      <td>L</td>\n",
       "      <td>Maroon</td>\n",
       "      <td>Winter</td>\n",
       "      <td>3.1</td>\n",
       "      <td>Express</td>\n",
       "      <td>Yes</td>\n",
       "      <td>Yes</td>\n",
       "      <td>2</td>\n",
       "      <td>Cash</td>\n",
       "      <td>Fortnightly</td>\n",
       "    </tr>\n",
       "    <tr>\n",
       "      <th>2</th>\n",
       "      <td>50</td>\n",
       "      <td>Male</td>\n",
       "      <td>Jeans</td>\n",
       "      <td>Clothing</td>\n",
       "      <td>73</td>\n",
       "      <td>Massachusetts</td>\n",
       "      <td>S</td>\n",
       "      <td>Maroon</td>\n",
       "      <td>Spring</td>\n",
       "      <td>3.1</td>\n",
       "      <td>Free Shipping</td>\n",
       "      <td>Yes</td>\n",
       "      <td>Yes</td>\n",
       "      <td>23</td>\n",
       "      <td>Credit Card</td>\n",
       "      <td>Weekly</td>\n",
       "    </tr>\n",
       "    <tr>\n",
       "      <th>3</th>\n",
       "      <td>21</td>\n",
       "      <td>Male</td>\n",
       "      <td>Sandals</td>\n",
       "      <td>Footwear</td>\n",
       "      <td>90</td>\n",
       "      <td>Rhode Island</td>\n",
       "      <td>M</td>\n",
       "      <td>Maroon</td>\n",
       "      <td>Spring</td>\n",
       "      <td>3.5</td>\n",
       "      <td>Next Day Air</td>\n",
       "      <td>Yes</td>\n",
       "      <td>Yes</td>\n",
       "      <td>49</td>\n",
       "      <td>PayPal</td>\n",
       "      <td>Weekly</td>\n",
       "    </tr>\n",
       "    <tr>\n",
       "      <th>4</th>\n",
       "      <td>45</td>\n",
       "      <td>Male</td>\n",
       "      <td>Blouse</td>\n",
       "      <td>Clothing</td>\n",
       "      <td>49</td>\n",
       "      <td>Oregon</td>\n",
       "      <td>M</td>\n",
       "      <td>Turquoise</td>\n",
       "      <td>Spring</td>\n",
       "      <td>2.7</td>\n",
       "      <td>Free Shipping</td>\n",
       "      <td>Yes</td>\n",
       "      <td>Yes</td>\n",
       "      <td>31</td>\n",
       "      <td>PayPal</td>\n",
       "      <td>Annually</td>\n",
       "    </tr>\n",
       "    <tr>\n",
       "      <th>...</th>\n",
       "      <td>...</td>\n",
       "      <td>...</td>\n",
       "      <td>...</td>\n",
       "      <td>...</td>\n",
       "      <td>...</td>\n",
       "      <td>...</td>\n",
       "      <td>...</td>\n",
       "      <td>...</td>\n",
       "      <td>...</td>\n",
       "      <td>...</td>\n",
       "      <td>...</td>\n",
       "      <td>...</td>\n",
       "      <td>...</td>\n",
       "      <td>...</td>\n",
       "      <td>...</td>\n",
       "      <td>...</td>\n",
       "    </tr>\n",
       "    <tr>\n",
       "      <th>3895</th>\n",
       "      <td>40</td>\n",
       "      <td>Female</td>\n",
       "      <td>Hoodie</td>\n",
       "      <td>Clothing</td>\n",
       "      <td>28</td>\n",
       "      <td>Virginia</td>\n",
       "      <td>L</td>\n",
       "      <td>Turquoise</td>\n",
       "      <td>Summer</td>\n",
       "      <td>4.2</td>\n",
       "      <td>2-Day Shipping</td>\n",
       "      <td>No</td>\n",
       "      <td>No</td>\n",
       "      <td>32</td>\n",
       "      <td>Venmo</td>\n",
       "      <td>Weekly</td>\n",
       "    </tr>\n",
       "    <tr>\n",
       "      <th>3896</th>\n",
       "      <td>52</td>\n",
       "      <td>Female</td>\n",
       "      <td>Backpack</td>\n",
       "      <td>Accessories</td>\n",
       "      <td>49</td>\n",
       "      <td>Iowa</td>\n",
       "      <td>L</td>\n",
       "      <td>White</td>\n",
       "      <td>Spring</td>\n",
       "      <td>4.5</td>\n",
       "      <td>Store Pickup</td>\n",
       "      <td>No</td>\n",
       "      <td>No</td>\n",
       "      <td>41</td>\n",
       "      <td>Bank Transfer</td>\n",
       "      <td>Bi-Weekly</td>\n",
       "    </tr>\n",
       "    <tr>\n",
       "      <th>3897</th>\n",
       "      <td>46</td>\n",
       "      <td>Female</td>\n",
       "      <td>Belt</td>\n",
       "      <td>Accessories</td>\n",
       "      <td>33</td>\n",
       "      <td>New Jersey</td>\n",
       "      <td>L</td>\n",
       "      <td>Green</td>\n",
       "      <td>Spring</td>\n",
       "      <td>2.9</td>\n",
       "      <td>Standard</td>\n",
       "      <td>No</td>\n",
       "      <td>No</td>\n",
       "      <td>24</td>\n",
       "      <td>Venmo</td>\n",
       "      <td>Quarterly</td>\n",
       "    </tr>\n",
       "    <tr>\n",
       "      <th>3898</th>\n",
       "      <td>44</td>\n",
       "      <td>Female</td>\n",
       "      <td>Shoes</td>\n",
       "      <td>Footwear</td>\n",
       "      <td>77</td>\n",
       "      <td>Minnesota</td>\n",
       "      <td>S</td>\n",
       "      <td>Brown</td>\n",
       "      <td>Summer</td>\n",
       "      <td>3.8</td>\n",
       "      <td>Express</td>\n",
       "      <td>No</td>\n",
       "      <td>No</td>\n",
       "      <td>24</td>\n",
       "      <td>Venmo</td>\n",
       "      <td>Weekly</td>\n",
       "    </tr>\n",
       "    <tr>\n",
       "      <th>3899</th>\n",
       "      <td>52</td>\n",
       "      <td>Female</td>\n",
       "      <td>Handbag</td>\n",
       "      <td>Accessories</td>\n",
       "      <td>81</td>\n",
       "      <td>California</td>\n",
       "      <td>M</td>\n",
       "      <td>Beige</td>\n",
       "      <td>Spring</td>\n",
       "      <td>3.1</td>\n",
       "      <td>Store Pickup</td>\n",
       "      <td>No</td>\n",
       "      <td>No</td>\n",
       "      <td>33</td>\n",
       "      <td>Venmo</td>\n",
       "      <td>Quarterly</td>\n",
       "    </tr>\n",
       "  </tbody>\n",
       "</table>\n",
       "<p>3900 rows × 16 columns</p>\n",
       "</div>"
      ],
      "text/plain": [
       "      Age  Gender Item Purchased     Category  Purchase Amount       Location  \\\n",
       "0      55    Male         Blouse     Clothing               53       Kentucky   \n",
       "1      19    Male        Sweater     Clothing               64          Maine   \n",
       "2      50    Male          Jeans     Clothing               73  Massachusetts   \n",
       "3      21    Male        Sandals     Footwear               90   Rhode Island   \n",
       "4      45    Male         Blouse     Clothing               49         Oregon   \n",
       "...   ...     ...            ...          ...              ...            ...   \n",
       "3895   40  Female         Hoodie     Clothing               28       Virginia   \n",
       "3896   52  Female       Backpack  Accessories               49           Iowa   \n",
       "3897   46  Female           Belt  Accessories               33     New Jersey   \n",
       "3898   44  Female          Shoes     Footwear               77      Minnesota   \n",
       "3899   52  Female        Handbag  Accessories               81     California   \n",
       "\n",
       "     Size      Color  Season  Review Rating   Shipping Type Discount Applied  \\\n",
       "0       L       Gray  Winter            3.1         Express              Yes   \n",
       "1       L     Maroon  Winter            3.1         Express              Yes   \n",
       "2       S     Maroon  Spring            3.1   Free Shipping              Yes   \n",
       "3       M     Maroon  Spring            3.5    Next Day Air              Yes   \n",
       "4       M  Turquoise  Spring            2.7   Free Shipping              Yes   \n",
       "...   ...        ...     ...            ...             ...              ...   \n",
       "3895    L  Turquoise  Summer            4.2  2-Day Shipping               No   \n",
       "3896    L      White  Spring            4.5    Store Pickup               No   \n",
       "3897    L      Green  Spring            2.9        Standard               No   \n",
       "3898    S      Brown  Summer            3.8         Express               No   \n",
       "3899    M      Beige  Spring            3.1    Store Pickup               No   \n",
       "\n",
       "     Promo Code Used  Previous Purchases Payment Method Frequency of Purchases  \n",
       "0                Yes                  14          Venmo            Fortnightly  \n",
       "1                Yes                   2           Cash            Fortnightly  \n",
       "2                Yes                  23    Credit Card                 Weekly  \n",
       "3                Yes                  49         PayPal                 Weekly  \n",
       "4                Yes                  31         PayPal               Annually  \n",
       "...              ...                 ...            ...                    ...  \n",
       "3895              No                  32          Venmo                 Weekly  \n",
       "3896              No                  41  Bank Transfer              Bi-Weekly  \n",
       "3897              No                  24          Venmo              Quarterly  \n",
       "3898              No                  24          Venmo                 Weekly  \n",
       "3899              No                  33          Venmo              Quarterly  \n",
       "\n",
       "[3900 rows x 16 columns]"
      ]
     },
     "execution_count": 15,
     "metadata": {},
     "output_type": "execute_result"
    }
   ],
   "source": [
    "X = df.drop(['Subscription Status'], axis=1)\n",
    "y = df['Subscription Status']\n",
    "X"
   ]
  },
  {
   "cell_type": "markdown",
   "metadata": {},
   "source": [
    "## Splitting Train and Test"
   ]
  },
  {
   "cell_type": "markdown",
   "metadata": {},
   "source": [
    "I Split the data into Train and Test with ratio 7:3."
   ]
  },
  {
   "cell_type": "code",
   "execution_count": 16,
   "metadata": {},
   "outputs": [
    {
     "name": "stdout",
     "output_type": "stream",
     "text": [
      "Train size :  (2730, 16)\n",
      "Test size  :  (1170, 16)\n"
     ]
    }
   ],
   "source": [
    "X_train, X_test, y_train, y_test = train_test_split(X, y,test_size=0.3,random_state=3)\n",
    "\n",
    "print('Train size : ', X_train.shape)\n",
    "print('Test size  : ', X_test.shape)"
   ]
  },
  {
   "cell_type": "markdown",
   "metadata": {},
   "source": [
    "## Cardinality"
   ]
  },
  {
   "cell_type": "markdown",
   "metadata": {},
   "source": [
    "In this process i want to remove some columns that is deem as cardinality.\n",
    "\n",
    "**What is cardinality ?** It's when the data have alot of unique values. When we the models train itself, it will calculate more variable and making the calculations too complex. Hence we need to handle it."
   ]
  },
  {
   "cell_type": "code",
   "execution_count": 17,
   "metadata": {},
   "outputs": [
    {
     "name": "stdout",
     "output_type": "stream",
     "text": [
      "Cardinality of column Gender is 2\n",
      "Cardinality of column Item Purchased is 25\n",
      "Cardinality of column Category is 4\n",
      "Cardinality of column Location is 50\n",
      "Cardinality of column Size is 4\n",
      "Cardinality of column Color is 25\n",
      "Cardinality of column Season is 4\n",
      "Cardinality of column Shipping Type is 6\n",
      "Cardinality of column Discount Applied is 2\n",
      "Cardinality of column Promo Code Used is 2\n",
      "Cardinality of column Payment Method is 6\n",
      "Cardinality of column Frequency of Purchases is 7\n"
     ]
    }
   ],
   "source": [
    "obj_col = X_train.select_dtypes(include=['object'])\n",
    "for cat in obj_col:\n",
    "  count = len(X_train[cat].unique())\n",
    "  print(f\"Cardinality of column {cat} is {count}\")"
   ]
  },
  {
   "cell_type": "markdown",
   "metadata": {},
   "source": [
    "According to the output above there are 3 columns that have high unique. Which is 'Item Purchased', 'Location' and 'Color'.\n",
    "\n",
    "For 'Item Purchased' and 'Color' i decided to not handle it. The reason is that these two columns I believe are important to keep around. These columns function as specification of the product that is bought. For example, maybe our customer likely to subscribe because they loves buying \"Pink\" \"Sweaters\". I don't want to lose these columns so i keep it."
   ]
  },
  {
   "cell_type": "code",
   "execution_count": 18,
   "metadata": {},
   "outputs": [
    {
     "data": {
      "text/plain": [
       "array(['Blouse', 'Sweater', 'Jeans', 'Sandals', 'Sneakers', 'Shirt',\n",
       "       'Shorts', 'Coat', 'Handbag', 'Shoes', 'Dress', 'Skirt',\n",
       "       'Sunglasses', 'Pants', 'Jacket', 'Hoodie', 'Jewelry', 'T-shirt',\n",
       "       'Scarf', 'Hat', 'Socks', 'Backpack', 'Belt', 'Boots', 'Gloves'],\n",
       "      dtype=object)"
      ]
     },
     "execution_count": 18,
     "metadata": {},
     "output_type": "execute_result"
    }
   ],
   "source": [
    "df['Item Purchased'].unique()"
   ]
  },
  {
   "cell_type": "code",
   "execution_count": 19,
   "metadata": {},
   "outputs": [
    {
     "data": {
      "text/plain": [
       "array(['Gray', 'Maroon', 'Turquoise', 'White', 'Charcoal', 'Silver',\n",
       "       'Pink', 'Purple', 'Olive', 'Gold', 'Violet', 'Teal', 'Lavender',\n",
       "       'Black', 'Green', 'Peach', 'Red', 'Cyan', 'Brown', 'Beige',\n",
       "       'Orange', 'Indigo', 'Yellow', 'Magenta', 'Blue'], dtype=object)"
      ]
     },
     "execution_count": 19,
     "metadata": {},
     "output_type": "execute_result"
    }
   ],
   "source": [
    "df['Color'].unique()"
   ]
  },
  {
   "cell_type": "markdown",
   "metadata": {},
   "source": [
    "As for Location the 50 states in America is too big. If i want to predict whether or not someone will subscribe, it will be more relevant if we are talking about salary class. Not the location they lived. So i ends up dropping this columns."
   ]
  },
  {
   "cell_type": "code",
   "execution_count": 20,
   "metadata": {},
   "outputs": [
    {
     "data": {
      "text/plain": [
       "array(['Kentucky', 'Maine', 'Massachusetts', 'Rhode Island', 'Oregon',\n",
       "       'Wyoming', 'Montana', 'Louisiana', 'West Virginia', 'Missouri',\n",
       "       'Arkansas', 'Hawaii', 'Delaware', 'New Hampshire', 'New York',\n",
       "       'Alabama', 'Mississippi', 'North Carolina', 'California',\n",
       "       'Oklahoma', 'Florida', 'Texas', 'Nevada', 'Kansas', 'Colorado',\n",
       "       'North Dakota', 'Illinois', 'Indiana', 'Arizona', 'Alaska',\n",
       "       'Tennessee', 'Ohio', 'New Jersey', 'Maryland', 'Vermont',\n",
       "       'New Mexico', 'South Carolina', 'Idaho', 'Pennsylvania',\n",
       "       'Connecticut', 'Utah', 'Virginia', 'Georgia', 'Nebraska', 'Iowa',\n",
       "       'South Dakota', 'Minnesota', 'Washington', 'Wisconsin', 'Michigan'],\n",
       "      dtype=object)"
      ]
     },
     "execution_count": 20,
     "metadata": {},
     "output_type": "execute_result"
    }
   ],
   "source": [
    "df['Location'].unique()"
   ]
  },
  {
   "cell_type": "code",
   "execution_count": 21,
   "metadata": {},
   "outputs": [],
   "source": [
    "X_train.drop(['Location'], axis=1, inplace=True)"
   ]
  },
  {
   "cell_type": "code",
   "execution_count": 22,
   "metadata": {},
   "outputs": [],
   "source": [
    "X_test.drop(['Location'], axis=1, inplace=True)"
   ]
  },
  {
   "cell_type": "markdown",
   "metadata": {},
   "source": [
    "## Outliers"
   ]
  },
  {
   "cell_type": "markdown",
   "metadata": {},
   "source": [
    "In this datasets i want to handle the outliers. But before that lets check how skewwed this datasets.\n",
    "\n",
    "At EDA i show simple visualization for 'Age', 'Purhase Amount', 'Review Rating' and 'Previous Purchases'. I did not found any significant outliers in EDA Process. But to make sure that no outliers exist, i gotta check it first. "
   ]
  },
  {
   "cell_type": "code",
   "execution_count": 23,
   "metadata": {},
   "outputs": [
    {
     "data": {
      "text/html": [
       "<div>\n",
       "<style scoped>\n",
       "    .dataframe tbody tr th:only-of-type {\n",
       "        vertical-align: middle;\n",
       "    }\n",
       "\n",
       "    .dataframe tbody tr th {\n",
       "        vertical-align: top;\n",
       "    }\n",
       "\n",
       "    .dataframe thead th {\n",
       "        text-align: right;\n",
       "    }\n",
       "</style>\n",
       "<table border=\"1\" class=\"dataframe\">\n",
       "  <thead>\n",
       "    <tr style=\"text-align: right;\">\n",
       "      <th></th>\n",
       "      <th>nama kolom</th>\n",
       "      <th>nilai skewness</th>\n",
       "      <th>distribution</th>\n",
       "    </tr>\n",
       "  </thead>\n",
       "  <tbody>\n",
       "    <tr>\n",
       "      <th>0</th>\n",
       "      <td>Age</td>\n",
       "      <td>-0.0</td>\n",
       "      <td>normal</td>\n",
       "    </tr>\n",
       "    <tr>\n",
       "      <th>1</th>\n",
       "      <td>Purchase Amount</td>\n",
       "      <td>-0.0</td>\n",
       "      <td>normal</td>\n",
       "    </tr>\n",
       "    <tr>\n",
       "      <th>2</th>\n",
       "      <td>Review Rating</td>\n",
       "      <td>0.0</td>\n",
       "      <td>normal</td>\n",
       "    </tr>\n",
       "    <tr>\n",
       "      <th>3</th>\n",
       "      <td>Previous Purchases</td>\n",
       "      <td>0.0</td>\n",
       "      <td>normal</td>\n",
       "    </tr>\n",
       "  </tbody>\n",
       "</table>\n",
       "</div>"
      ],
      "text/plain": [
       "           nama kolom  nilai skewness distribution\n",
       "0                 Age            -0.0       normal\n",
       "1     Purchase Amount            -0.0       normal\n",
       "2       Review Rating             0.0       normal\n",
       "3  Previous Purchases             0.0       normal"
      ]
     },
     "execution_count": 23,
     "metadata": {},
     "output_type": "execute_result"
    }
   ],
   "source": [
    "num_cols = list(X_train.select_dtypes(exclude='object').columns)\n",
    "\n",
    "listItem= []\n",
    "\n",
    "for col in num_cols:\n",
    "  listItem.append([col, round(X_train[col].skew(),1), np.where(\n",
    "    (round(X_train[col].skew(),1) <= 0.5) & (round(X_train[col].skew(),1) >= -0.5),\n",
    "    'normal',\n",
    "    'skewed')])\n",
    "\n",
    "skewness = pd.DataFrame(columns=['nama kolom', 'nilai skewness', 'distribution'], data= listItem)\n",
    "skewness\n"
   ]
  },
  {
   "cell_type": "markdown",
   "metadata": {},
   "source": [
    "AS we can see the data distributed normal. What a perfect datasets. So i did not have to do anything here."
   ]
  },
  {
   "cell_type": "markdown",
   "metadata": {},
   "source": [
    "## Column Transformer"
   ]
  },
  {
   "cell_type": "markdown",
   "metadata": {},
   "source": [
    "First i will encode my target first using label encoder because the values are binary (yes/no)."
   ]
  },
  {
   "cell_type": "code",
   "execution_count": 24,
   "metadata": {},
   "outputs": [],
   "source": [
    "label_encoder = LabelEncoder()\n",
    "y_train = label_encoder.fit_transform(y_train)\n",
    "y_test = label_encoder.transform(y_test)"
   ]
  },
  {
   "cell_type": "markdown",
   "metadata": {},
   "source": [
    "In this project i want to use 2 encoder. OhneHotEncoder and LabelEncoder. \n",
    "\n",
    "- Columns that will use OhneHotEncoder are as follow : ['Item Purchased', 'Category', 'Size', 'Season', 'Shipping Type', 'Payment Method']. \n",
    "\n",
    "- And the rest that will use LabelEncoder are these columns : ['Discount Applied', 'Promo Code Used', 'Gender']"
   ]
  },
  {
   "cell_type": "markdown",
   "metadata": {},
   "source": [
    "Here i want to check how the encoder change the data.\n",
    "\n",
    "We can see below that 'Yes' will be change to 1.\n",
    "\n",
    "And 'No' will be 0. "
   ]
  },
  {
   "cell_type": "code",
   "execution_count": 25,
   "metadata": {},
   "outputs": [
    {
     "data": {
      "text/plain": [
       "array(['No', 'Yes'], dtype=object)"
      ]
     },
     "execution_count": 25,
     "metadata": {},
     "output_type": "execute_result"
    }
   ],
   "source": [
    "label_encoder.classes_"
   ]
  },
  {
   "cell_type": "code",
   "execution_count": 26,
   "metadata": {},
   "outputs": [
    {
     "data": {
      "text/plain": [
       "array([1, 0, 0, ..., 0, 0, 0])"
      ]
     },
     "execution_count": 26,
     "metadata": {},
     "output_type": "execute_result"
    }
   ],
   "source": [
    "y_train"
   ]
  },
  {
   "cell_type": "code",
   "execution_count": 27,
   "metadata": {},
   "outputs": [
    {
     "data": {
      "text/plain": [
       "array(['Yes', 'No', 'No', ..., 'No', 'No', 'No'], dtype=object)"
      ]
     },
     "execution_count": 27,
     "metadata": {},
     "output_type": "execute_result"
    }
   ],
   "source": [
    "label_encoder.inverse_transform(y_train)"
   ]
  },
  {
   "cell_type": "markdown",
   "metadata": {},
   "source": [
    "Function Below is for LabelEncoder. So LabelEncoder will have the outcome that is 1D. But we need a 2D output after encoding. So this function will be called inside 'FunctionTransfomer' to make sure that it applied on 2D dataset."
   ]
  },
  {
   "cell_type": "code",
   "execution_count": 204,
   "metadata": {},
   "outputs": [],
   "source": [
    "def label_encode_column(X_train):\n",
    "    le = LabelEncoder()\n",
    "    return X_train.apply(lambda col: le.fit_transform(col))"
   ]
  },
  {
   "cell_type": "markdown",
   "metadata": {},
   "source": [
    "This is the transformer i made, there are 3 things on this transformer.\n",
    "\n",
    "- scaler, i use standard scaler for scalling the numerical columns.\n",
    "- one hot encoder, i use it for categorical columns that have more that 2 unique value.\n",
    "- label encoder, i use it for categorical columns that have binary values such as yes or no. The same case as encoder that 1 use on target."
   ]
  },
  {
   "cell_type": "code",
   "execution_count": 205,
   "metadata": {},
   "outputs": [],
   "source": [
    "transformer = ColumnTransformer([\n",
    "    ('scaler', StandardScaler(), selector(dtype_exclude='object')),\n",
    "    ('one_hot_encode', OneHotEncoder(), ['Item Purchased', 'Category', 'Size', 'Season', 'Shipping Type', 'Payment Method']),\n",
    "    ('label_encode', FunctionTransformer(label_encode_column, validate=False), ['Discount Applied', 'Promo Code Used', 'Gender'])\n",
    "])"
   ]
  },
  {
   "cell_type": "markdown",
   "metadata": {},
   "source": [
    "# MODEL DEFINITION"
   ]
  },
  {
   "cell_type": "markdown",
   "metadata": {},
   "source": [
    "In this project my objective is not only to predict whether or not someone subscribe, but also to evaluates different kind of algorithms that used for model. \n",
    "\n",
    "In this process, I created five pipelines using five different estimators. The estimator that i use is :\n",
    "```\n",
    "- K-Nearest Neighbors (KNN)\n",
    "- Support Vector Machine (SVM)\n",
    "- Decision Tree\n",
    "- Random Forest\n",
    "- XGBoost\n",
    "```\n",
    "\n",
    "The codes below to define pipeline for each estimator.\n",
    "\n",
    "I called transformer that i made before inside the pipeline."
   ]
  },
  {
   "cell_type": "code",
   "execution_count": 206,
   "metadata": {},
   "outputs": [],
   "source": [
    "# K-Nearest Neighbors (KNN)\n",
    "pipe_knn = Pipeline([\n",
    "    ('transformer', transformer),\n",
    "    ('classifier', KNeighborsClassifier())\n",
    "])\n",
    "\n",
    "# Support Vector Machine (SVM)\n",
    "pipe_svm = Pipeline([\n",
    "    ('transformer', transformer),\n",
    "    ('classifier', SVC())\n",
    "])\n",
    "\n",
    "# Decision Tree\n",
    "pipe_dt = Pipeline([\n",
    "('transformer', transformer),\n",
    "('classifier', DecisionTreeClassifier())\n",
    "])\n",
    "\n",
    "# Random Forest\n",
    "pipe_rf = Pipeline([\n",
    "('transformer', transformer),\n",
    "('classifier', RandomForestClassifier())\n",
    "])\n",
    "\n",
    "#XGBoost\n",
    "pipe_xgb = Pipeline([\n",
    "('transformer', transformer),\n",
    "('classifier', XGBClassifier())\n",
    "])"
   ]
  },
  {
   "cell_type": "markdown",
   "metadata": {},
   "source": [
    "# MODEL TRAINING"
   ]
  },
  {
   "cell_type": "markdown",
   "metadata": {},
   "source": [
    "## K-NEAREST NEIGHBOR (KNN)"
   ]
  },
  {
   "cell_type": "code",
   "execution_count": 207,
   "metadata": {},
   "outputs": [
    {
     "name": "stdout",
     "output_type": "stream",
     "text": [
      "Training Score:  0.8733\n",
      "Testing Score:  0.812\n"
     ]
    }
   ],
   "source": [
    "pipe_knn.fit(X_train, y_train)\n",
    "print('Training Score: ',round(pipe_knn.score(X_train, y_train),4))\n",
    "print('Testing Score: ', round(pipe_knn.score(X_test, y_test),4))"
   ]
  },
  {
   "cell_type": "markdown",
   "metadata": {},
   "source": [
    "## SUPPORT VECTOR MACHINE (SVM)"
   ]
  },
  {
   "cell_type": "code",
   "execution_count": 208,
   "metadata": {},
   "outputs": [
    {
     "name": "stdout",
     "output_type": "stream",
     "text": [
      "Training Score:  0.8571\n",
      "Testing Score:  0.8333\n"
     ]
    }
   ],
   "source": [
    "pipe_svm.fit(X_train, y_train)\n",
    "print('Training Score: ',round(pipe_svm.score(X_train, y_train),4))\n",
    "print('Testing Score: ', round(pipe_svm.score(X_test, y_test),4))"
   ]
  },
  {
   "cell_type": "markdown",
   "metadata": {},
   "source": [
    "## DECISION TREE"
   ]
  },
  {
   "cell_type": "code",
   "execution_count": 209,
   "metadata": {},
   "outputs": [
    {
     "name": "stdout",
     "output_type": "stream",
     "text": [
      "Training Score:  1.0\n",
      "Testing Score:  0.7932\n"
     ]
    }
   ],
   "source": [
    "pipe_dt.fit(X_train, y_train)\n",
    "print('Training Score: ',round(pipe_dt.score(X_train, y_train),4))\n",
    "print('Testing Score: ', round(pipe_dt.score(X_test, y_test),4))"
   ]
  },
  {
   "cell_type": "markdown",
   "metadata": {},
   "source": [
    "## RANDOM FOREST"
   ]
  },
  {
   "cell_type": "code",
   "execution_count": 210,
   "metadata": {},
   "outputs": [
    {
     "name": "stdout",
     "output_type": "stream",
     "text": [
      "Training Score:  1.0\n",
      "Testing Score:  0.8256\n"
     ]
    }
   ],
   "source": [
    "pipe_rf.fit(X_train, y_train)\n",
    "print('Training Score: ',round(pipe_rf.score(X_train, y_train),4))\n",
    "print('Testing Score: ', round(pipe_rf.score(X_test, y_test),4))"
   ]
  },
  {
   "cell_type": "markdown",
   "metadata": {},
   "source": [
    "## XGBOOST"
   ]
  },
  {
   "cell_type": "code",
   "execution_count": 211,
   "metadata": {},
   "outputs": [
    {
     "name": "stdout",
     "output_type": "stream",
     "text": [
      "Training Score:  1.0\n",
      "Testing Score:  0.8222\n"
     ]
    }
   ],
   "source": [
    "pipe_xgb.fit(X_train, y_train)\n",
    "print('Training Score: ',round(pipe_xgb.score(X_train, y_train),4))\n",
    "print('Testing Score: ', round(pipe_xgb.score(X_test, y_test),4))"
   ]
  },
  {
   "cell_type": "markdown",
   "metadata": {},
   "source": [
    "The highest Testing Score between all estimators is 'Decision Tree'.\n",
    "\n",
    "But we can't make final decision for the best of them just from here."
   ]
  },
  {
   "cell_type": "markdown",
   "metadata": {},
   "source": [
    "# MODEL EVALUATION"
   ]
  },
  {
   "cell_type": "markdown",
   "metadata": {},
   "source": [
    "In this Model Evaluation i will use F1-Scores Metric to evaluates the model.\n",
    "\n",
    "**REASON:** \n",
    "\n",
    "As a company we want to predict whether the customer subscribe or not. We want to avoid this results :\n",
    "\n",
    "- FALSE NEGATIVE result, it mean the model predicts NEGATIVE (Not Subscribe) but the customer is actually POSITIVE (Subscribe). That mean we **will lose potential subscriber**. In this case we want to focus on **Recall**.\n",
    "- FALSE POSITIVE result, it mean the model predicts POSITIVE (Subscribe) but the customer is actually NEGATVIE (Not Subscribe). That mean we **will get missinformation about the success of our membership campaign**. We don't want that to happen because we don't know what to improve if our subscriber. In this case we want to focus on **Precision**.\n",
    "+ **In this project we want to minimalize both of the above problem therefore we use F1-Scores Metric Evaluation.**\n",
    "\n",
    "Below are F1-scores for each estimator before 'Hyperparameter Tuning'.\n",
    "\n",
    "In Model Evaluation i also put Cross Validation.\n",
    "\n",
    "**Cross Validation**\n",
    "- In Cross Validation i will use a function for calculating F1-score.\n",
    "- The output will be :\n",
    "1. [X times F1 Score, where X = Fold values] example : with 3 folds [0.67318982 0.64426877 0.61322645], \n",
    "2. [Mean of those F1 Score], \n",
    "3. [Std of those F1 Score] \n",
    "4. and lastly [Range of F1 Score (Min F1 Score to Max F1 Score)]\n",
    "\n",
    "**for more explanation about Cross Validation will be answered in 'CONCEPTUAL PROBLEMS'**\n",
    "\n",
    "**What information can i take from Cross Validation ?**\n",
    "\n",
    "1. The Higher F1 Score the better model can predict.\n",
    "2. And of course the higher F1 Score the better.\n",
    "3. STD from list of F1 Scores shows the consistency of the prediction."
   ]
  },
  {
   "cell_type": "markdown",
   "metadata": {},
   "source": [
    "## KNN"
   ]
  },
  {
   "cell_type": "markdown",
   "metadata": {},
   "source": [
    "Predict with KNN."
   ]
  },
  {
   "cell_type": "code",
   "execution_count": 212,
   "metadata": {},
   "outputs": [
    {
     "data": {
      "text/plain": [
       "array([0, 1, 0, ..., 0, 0, 0])"
      ]
     },
     "execution_count": 212,
     "metadata": {},
     "output_type": "execute_result"
    }
   ],
   "source": [
    "y_knn_pred = pipe_knn.predict(X_test)\n",
    "y_knn_pred"
   ]
  },
  {
   "cell_type": "markdown",
   "metadata": {},
   "source": [
    "Below here is Classification Report that cointain the F1-Score from prediction result of KNN."
   ]
  },
  {
   "cell_type": "code",
   "execution_count": 213,
   "metadata": {},
   "outputs": [
    {
     "name": "stdout",
     "output_type": "stream",
     "text": [
      "               precision    recall  f1-score   support\n",
      "\n",
      "Not Subscribe       0.88      0.86      0.87       868\n",
      "    Subscribe       0.63      0.67      0.65       302\n",
      "\n",
      "     accuracy                           0.81      1170\n",
      "    macro avg       0.75      0.77      0.76      1170\n",
      " weighted avg       0.82      0.81      0.81      1170\n",
      "\n"
     ]
    }
   ],
   "source": [
    "target = ['Not Subscribe', 'Subscribe']\n",
    "print(classification_report(y_test, y_knn_pred, target_names = target))"
   ]
  },
  {
   "cell_type": "markdown",
   "metadata": {},
   "source": [
    "### CROSS VALIDATION"
   ]
  },
  {
   "cell_type": "markdown",
   "metadata": {},
   "source": [
    "And below here is the cross validation for F1-score.\n",
    "- Here i use 3 fold (cv=3)"
   ]
  },
  {
   "cell_type": "code",
   "execution_count": 214,
   "metadata": {},
   "outputs": [
    {
     "name": "stdout",
     "output_type": "stream",
     "text": [
      "F1 Score - All - Cross Validation  :  [0.67318982 0.64426877 0.61322645]\n",
      "F1 Score - Mean - Cross Validation :  0.6435616838280414\n",
      "F1 Score - Std - Cross Validation  :  0.024485049147312605\n",
      "F1 Score - Range of Test-Set       :  0.6190766346807287 - 0.668046732975354\n"
     ]
    }
   ],
   "source": [
    "f1_train_cross_val = cross_val_score(pipe_knn,\n",
    "                                     X_train,\n",
    "                                     y_train,\n",
    "                                     cv=3,\n",
    "                                     scoring=\"f1\")\n",
    "\n",
    "print('F1 Score - All - Cross Validation  : ', f1_train_cross_val)\n",
    "print('F1 Score - Mean - Cross Validation : ', f1_train_cross_val.mean())\n",
    "print('F1 Score - Std - Cross Validation  : ', f1_train_cross_val.std())\n",
    "print('F1 Score - Range of Test-Set       : ', (f1_train_cross_val.mean()-f1_train_cross_val.std()) , '-', (f1_train_cross_val.mean()+f1_train_cross_val.std()))"
   ]
  },
  {
   "cell_type": "markdown",
   "metadata": {},
   "source": [
    "From the output we got :\n",
    "- 3 fold's F1 score and the F1 score's mean from KNN is neither high nor low. It is Average at best.\n",
    "- STD is quite low, but this is good. The lower the STD mean the lower the distribution. Which mean consistent. For example, let's say the F1 scores that i obtained are: [0.8, 0.7, 0.2]. The STD will be high because 0.8 is way higher than 0.2, making it inconsistent"
   ]
  },
  {
   "cell_type": "markdown",
   "metadata": {},
   "source": [
    "Next i will show the other 'Classification Report' and 'Cross Validation' but not going to explain it one by one. And i will not going to compare each of them.\n",
    "\n",
    "**The comparison will be done after hyperparameter tuning**"
   ]
  },
  {
   "cell_type": "markdown",
   "metadata": {},
   "source": [
    "## SVM"
   ]
  },
  {
   "cell_type": "code",
   "execution_count": 215,
   "metadata": {},
   "outputs": [
    {
     "data": {
      "text/plain": [
       "array([0, 1, 0, ..., 1, 0, 0])"
      ]
     },
     "execution_count": 215,
     "metadata": {},
     "output_type": "execute_result"
    }
   ],
   "source": [
    "y_svm_pred = pipe_svm.predict(X_test)\n",
    "y_svm_pred"
   ]
  },
  {
   "cell_type": "code",
   "execution_count": 216,
   "metadata": {},
   "outputs": [
    {
     "name": "stdout",
     "output_type": "stream",
     "text": [
      "               precision    recall  f1-score   support\n",
      "\n",
      "Not Subscribe       0.99      0.78      0.87       868\n",
      "    Subscribe       0.61      0.98      0.75       302\n",
      "\n",
      "     accuracy                           0.83      1170\n",
      "    macro avg       0.80      0.88      0.81      1170\n",
      " weighted avg       0.89      0.83      0.84      1170\n",
      "\n"
     ]
    }
   ],
   "source": [
    "target = ['Not Subscribe', 'Subscribe']\n",
    "print(classification_report(y_test, y_svm_pred, target_names = target))"
   ]
  },
  {
   "cell_type": "markdown",
   "metadata": {},
   "source": [
    "### CROSS VALIDATION"
   ]
  },
  {
   "cell_type": "code",
   "execution_count": 217,
   "metadata": {},
   "outputs": [
    {
     "name": "stdout",
     "output_type": "stream",
     "text": [
      "F1 Score - All - Cross Validation  :  [0.77237049 0.77934272 0.77449456]\n",
      "F1 Score - Mean - Cross Validation :  0.7754025888086864\n",
      "F1 Score - Std - Cross Validation  :  0.0029179229563582026\n",
      "F1 Score - Range of Test-Set       :  0.7724846658523282 - 0.7783205117650446\n"
     ]
    }
   ],
   "source": [
    "f1_train_cross_val = cross_val_score(pipe_svm,\n",
    "                                     X_train,\n",
    "                                     y_train,\n",
    "                                     cv=3,\n",
    "                                     scoring=\"f1\")\n",
    "\n",
    "print('F1 Score - All - Cross Validation  : ', f1_train_cross_val)\n",
    "print('F1 Score - Mean - Cross Validation : ', f1_train_cross_val.mean())\n",
    "print('F1 Score - Std - Cross Validation  : ', f1_train_cross_val.std())\n",
    "print('F1 Score - Range of Test-Set       : ', (f1_train_cross_val.mean()-f1_train_cross_val.std()) , '-', (f1_train_cross_val.mean()+f1_train_cross_val.std()))"
   ]
  },
  {
   "cell_type": "markdown",
   "metadata": {},
   "source": [
    "## DECISION TREE"
   ]
  },
  {
   "cell_type": "code",
   "execution_count": 218,
   "metadata": {},
   "outputs": [
    {
     "data": {
      "text/plain": [
       "array([0, 1, 0, ..., 0, 0, 0])"
      ]
     },
     "execution_count": 218,
     "metadata": {},
     "output_type": "execute_result"
    }
   ],
   "source": [
    "y_dt_pred = pipe_dt.predict(X_test)\n",
    "y_dt_pred"
   ]
  },
  {
   "cell_type": "code",
   "execution_count": 219,
   "metadata": {},
   "outputs": [
    {
     "name": "stdout",
     "output_type": "stream",
     "text": [
      "               precision    recall  f1-score   support\n",
      "\n",
      "Not Subscribe       0.86      0.86      0.86       868\n",
      "    Subscribe       0.60      0.61      0.60       302\n",
      "\n",
      "     accuracy                           0.79      1170\n",
      "    macro avg       0.73      0.73      0.73      1170\n",
      " weighted avg       0.79      0.79      0.79      1170\n",
      "\n"
     ]
    }
   ],
   "source": [
    "target = ['Not Subscribe', 'Subscribe']\n",
    "print(classification_report(y_test, y_dt_pred, target_names = target))"
   ]
  },
  {
   "cell_type": "markdown",
   "metadata": {},
   "source": [
    "### CROSS VALIDATION"
   ]
  },
  {
   "cell_type": "code",
   "execution_count": 220,
   "metadata": {},
   "outputs": [
    {
     "name": "stdout",
     "output_type": "stream",
     "text": [
      "F1 Score - All - Cross Validation  :  [0.64621677 0.61728395 0.62301587]\n",
      "F1 Score - Mean - Cross Validation :  0.6288388641831041\n",
      "F1 Score - Std - Cross Validation  :  0.012508861213265767\n",
      "F1 Score - Range of Test-Set       :  0.6163300029698383 - 0.6413477253963699\n"
     ]
    }
   ],
   "source": [
    "f1_train_cross_val = cross_val_score(pipe_dt,\n",
    "                                     X_train,\n",
    "                                     y_train,\n",
    "                                     cv=3,\n",
    "                                     scoring=\"f1\")\n",
    "\n",
    "print('F1 Score - All - Cross Validation  : ', f1_train_cross_val)\n",
    "print('F1 Score - Mean - Cross Validation : ', f1_train_cross_val.mean())\n",
    "print('F1 Score - Std - Cross Validation  : ', f1_train_cross_val.std())\n",
    "print('F1 Score - Range of Test-Set       : ', (f1_train_cross_val.mean()-f1_train_cross_val.std()) , '-', (f1_train_cross_val.mean()+f1_train_cross_val.std()))"
   ]
  },
  {
   "cell_type": "markdown",
   "metadata": {},
   "source": [
    "## RANDOM FOREST"
   ]
  },
  {
   "cell_type": "code",
   "execution_count": 221,
   "metadata": {},
   "outputs": [
    {
     "data": {
      "text/plain": [
       "array([0, 1, 0, ..., 1, 0, 0])"
      ]
     },
     "execution_count": 221,
     "metadata": {},
     "output_type": "execute_result"
    }
   ],
   "source": [
    "y_rf_pred = pipe_rf.predict(X_test)\n",
    "y_rf_pred"
   ]
  },
  {
   "cell_type": "code",
   "execution_count": 222,
   "metadata": {},
   "outputs": [
    {
     "name": "stdout",
     "output_type": "stream",
     "text": [
      "               precision    recall  f1-score   support\n",
      "\n",
      "Not Subscribe       0.94      0.82      0.87       868\n",
      "    Subscribe       0.62      0.85      0.72       302\n",
      "\n",
      "     accuracy                           0.83      1170\n",
      "    macro avg       0.78      0.83      0.80      1170\n",
      " weighted avg       0.86      0.83      0.83      1170\n",
      "\n"
     ]
    }
   ],
   "source": [
    "target = ['Not Subscribe', 'Subscribe']\n",
    "print(classification_report(y_test, y_rf_pred, target_names = target))"
   ]
  },
  {
   "cell_type": "markdown",
   "metadata": {},
   "source": [
    "### CROSS VALIDATION"
   ]
  },
  {
   "cell_type": "code",
   "execution_count": 223,
   "metadata": {},
   "outputs": [
    {
     "name": "stdout",
     "output_type": "stream",
     "text": [
      "F1 Score - All - Cross Validation  :  [0.72945205 0.76369863 0.73809524]\n",
      "F1 Score - Mean - Cross Validation :  0.743748641008915\n",
      "F1 Score - Std - Cross Validation  :  0.014541382420528258\n",
      "F1 Score - Range of Test-Set       :  0.7292072585883868 - 0.7582900234294433\n"
     ]
    }
   ],
   "source": [
    "f1_train_cross_val = cross_val_score(pipe_rf,\n",
    "                                     X_train,\n",
    "                                     y_train,\n",
    "                                     cv=3,\n",
    "                                     scoring=\"f1\")\n",
    "\n",
    "print('F1 Score - All - Cross Validation  : ', f1_train_cross_val)\n",
    "print('F1 Score - Mean - Cross Validation : ', f1_train_cross_val.mean())\n",
    "print('F1 Score - Std - Cross Validation  : ', f1_train_cross_val.std())\n",
    "print('F1 Score - Range of Test-Set       : ', (f1_train_cross_val.mean()-f1_train_cross_val.std()) , '-', (f1_train_cross_val.mean()+f1_train_cross_val.std()))"
   ]
  },
  {
   "cell_type": "markdown",
   "metadata": {},
   "source": [
    "## XGBoost"
   ]
  },
  {
   "cell_type": "code",
   "execution_count": 224,
   "metadata": {},
   "outputs": [
    {
     "data": {
      "text/plain": [
       "array([0, 1, 0, ..., 0, 0, 0])"
      ]
     },
     "execution_count": 224,
     "metadata": {},
     "output_type": "execute_result"
    }
   ],
   "source": [
    "y_xgb_pred = pipe_xgb.predict(X_test)\n",
    "y_xgb_pred"
   ]
  },
  {
   "cell_type": "code",
   "execution_count": 225,
   "metadata": {},
   "outputs": [
    {
     "name": "stdout",
     "output_type": "stream",
     "text": [
      "               precision    recall  f1-score   support\n",
      "\n",
      "Not Subscribe       0.91      0.85      0.88       868\n",
      "    Subscribe       0.63      0.75      0.68       302\n",
      "\n",
      "     accuracy                           0.82      1170\n",
      "    macro avg       0.77      0.80      0.78      1170\n",
      " weighted avg       0.83      0.82      0.83      1170\n",
      "\n"
     ]
    }
   ],
   "source": [
    "target = ['Not Subscribe', 'Subscribe']\n",
    "print(classification_report(y_test, y_xgb_pred, target_names = target))"
   ]
  },
  {
   "cell_type": "markdown",
   "metadata": {},
   "source": [
    "### CROSS VALIDATION"
   ]
  },
  {
   "cell_type": "code",
   "execution_count": 226,
   "metadata": {},
   "outputs": [
    {
     "name": "stdout",
     "output_type": "stream",
     "text": [
      "F1 Score - All - Cross Validation  :  [0.74074074 0.74657534 0.71575342]\n",
      "F1 Score - Mean - Cross Validation :  0.7343565026213428\n",
      "F1 Score - Std - Cross Validation  :  0.013368284023963424\n",
      "F1 Score - Range of Test-Set       :  0.7209882185973794 - 0.7477247866453062\n"
     ]
    }
   ],
   "source": [
    "f1_train_cross_val = cross_val_score(pipe_rf,\n",
    "                                     X_train,\n",
    "                                     y_train,\n",
    "                                     cv=3,\n",
    "                                     scoring=\"f1\")\n",
    "\n",
    "print('F1 Score - All - Cross Validation  : ', f1_train_cross_val)\n",
    "print('F1 Score - Mean - Cross Validation : ', f1_train_cross_val.mean())\n",
    "print('F1 Score - Std - Cross Validation  : ', f1_train_cross_val.std())\n",
    "print('F1 Score - Range of Test-Set       : ', (f1_train_cross_val.mean()-f1_train_cross_val.std()) , '-', (f1_train_cross_val.mean()+f1_train_cross_val.std()))"
   ]
  },
  {
   "cell_type": "markdown",
   "metadata": {},
   "source": [
    "# HYPERPARAMETER TUNING"
   ]
  },
  {
   "cell_type": "markdown",
   "metadata": {},
   "source": [
    "In this process i want to get the best parameter for each estimator. Because one of my objective is to get the best model for predictions, i need to get the best parameter for every model."
   ]
  },
  {
   "cell_type": "markdown",
   "metadata": {},
   "source": [
    "## KNN"
   ]
  },
  {
   "cell_type": "markdown",
   "metadata": {},
   "source": [
    "First i create variable below for making list of parameters that will be an input for Function GridSearch."
   ]
  },
  {
   "cell_type": "code",
   "execution_count": 227,
   "metadata": {},
   "outputs": [],
   "source": [
    "param_knn = {\n",
    "    'transformer__scaler' : [StandardScaler(), MinMaxScaler()],\n",
    "    'classifier__n_neighbors' : [5,6,7,8,9,10]\n",
    "}"
   ]
  },
  {
   "cell_type": "markdown",
   "metadata": {},
   "source": [
    "Next i create variabe grid_knn. It contain Function GridSearchCV."
   ]
  },
  {
   "cell_type": "code",
   "execution_count": 228,
   "metadata": {},
   "outputs": [],
   "source": [
    "grid_knn = GridSearchCV(pipe_knn, param_knn, cv=5).fit(X_train, y_train)"
   ]
  },
  {
   "cell_type": "code",
   "execution_count": 229,
   "metadata": {},
   "outputs": [
    {
     "name": "stdout",
     "output_type": "stream",
     "text": [
      "Train Set Score :  0.8556776556776556\n",
      "Test Set Score :  0.8102564102564103\n"
     ]
    }
   ],
   "source": [
    "print('Train Set Score : ', grid_knn.score(X_train, y_train))\n",
    "print('Test Set Score : ', grid_knn.score(X_test, y_test))"
   ]
  },
  {
   "cell_type": "code",
   "execution_count": 230,
   "metadata": {},
   "outputs": [
    {
     "name": "stdout",
     "output_type": "stream",
     "text": [
      "{'classifier__n_neighbors': 9, 'transformer__scaler': StandardScaler()}\n",
      "\n",
      "\n",
      "Pipeline(steps=[('transformer',\n",
      "                 ColumnTransformer(transformers=[('scaler', StandardScaler(),\n",
      "                                                  <sklearn.compose._column_transformer.make_column_selector object at 0x000001E9A89F7730>),\n",
      "                                                 ('one_hot_encode',\n",
      "                                                  OneHotEncoder(),\n",
      "                                                  ['Item Purchased', 'Category',\n",
      "                                                   'Size', 'Season',\n",
      "                                                   'Shipping Type',\n",
      "                                                   'Payment Method']),\n",
      "                                                 ('label_encode',\n",
      "                                                  FunctionTransformer(func=<function label_encode_column at 0x000001E9ACE8F400>),\n",
      "                                                  ['Discount Applied',\n",
      "                                                   'Promo Code Used',\n",
      "                                                   'Gender'])])),\n",
      "                ('classifier', KNeighborsClassifier(n_neighbors=9))])\n",
      "\n",
      "\n",
      "Index(['mean_fit_time', 'std_fit_time', 'mean_score_time', 'std_score_time',\n",
      "       'param_classifier__n_neighbors', 'param_transformer__scaler', 'params',\n",
      "       'split0_test_score', 'split1_test_score', 'split2_test_score',\n",
      "       'split3_test_score', 'split4_test_score', 'mean_test_score',\n",
      "       'std_test_score', 'rank_test_score'],\n",
      "      dtype='object')\n"
     ]
    }
   ],
   "source": [
    "best_param_knn = grid_knn.best_params_\n",
    "print(best_param_knn)\n",
    "print('\\n')\n",
    "best_pipe_knn = grid_knn.best_estimator_\n",
    "print(best_pipe_knn)\n",
    "print('\\n')\n",
    "result_df_knn = pd.DataFrame.from_dict(grid_knn.cv_results_, orient='columns')\n",
    "print(result_df_knn.columns)"
   ]
  },
  {
   "cell_type": "markdown",
   "metadata": {},
   "source": [
    "The code above have 2 output.\n",
    "\n",
    "1. printing best parameter.\n",
    "2. new pipelines (best_pipe_knn) with best parameter that can be use for training."
   ]
  },
  {
   "cell_type": "markdown",
   "metadata": {},
   "source": [
    "## SVM"
   ]
  },
  {
   "cell_type": "code",
   "execution_count": 231,
   "metadata": {},
   "outputs": [],
   "source": [
    "param_svm = {\n",
    "    'transformer__scaler' : [StandardScaler(), MinMaxScaler()],\n",
    "    'classifier__C' : [0.001,0.01,0.1,1,10,100]\n",
    "}"
   ]
  },
  {
   "cell_type": "code",
   "execution_count": 232,
   "metadata": {},
   "outputs": [],
   "source": [
    "grid_svm = GridSearchCV(pipe_svm, param_svm, cv=5).fit(X_train, y_train)"
   ]
  },
  {
   "cell_type": "code",
   "execution_count": 233,
   "metadata": {},
   "outputs": [
    {
     "name": "stdout",
     "output_type": "stream",
     "text": [
      "Train Set Score :  0.8421245421245421\n",
      "Test Set Score :  0.8350427350427351\n"
     ]
    }
   ],
   "source": [
    "print('Train Set Score : ', grid_svm.score(X_train, y_train))\n",
    "print('Test Set Score : ', grid_svm.score(X_test, y_test))"
   ]
  },
  {
   "cell_type": "code",
   "execution_count": 234,
   "metadata": {},
   "outputs": [
    {
     "name": "stdout",
     "output_type": "stream",
     "text": [
      "{'classifier__C': 0.1, 'transformer__scaler': StandardScaler()}\n",
      "\n",
      "\n",
      "Pipeline(steps=[('transformer',\n",
      "                 ColumnTransformer(transformers=[('scaler', StandardScaler(),\n",
      "                                                  <sklearn.compose._column_transformer.make_column_selector object at 0x000001E9A8B63F40>),\n",
      "                                                 ('one_hot_encode',\n",
      "                                                  OneHotEncoder(),\n",
      "                                                  ['Item Purchased', 'Category',\n",
      "                                                   'Size', 'Season',\n",
      "                                                   'Shipping Type',\n",
      "                                                   'Payment Method']),\n",
      "                                                 ('label_encode',\n",
      "                                                  FunctionTransformer(func=<function label_encode_column at 0x000001E9ACE8F400>),\n",
      "                                                  ['Discount Applied',\n",
      "                                                   'Promo Code Used',\n",
      "                                                   'Gender'])])),\n",
      "                ('classifier', SVC(C=0.1))])\n",
      "\n",
      "\n",
      "Index(['mean_fit_time', 'std_fit_time', 'mean_score_time', 'std_score_time',\n",
      "       'param_classifier__C', 'param_transformer__scaler', 'params',\n",
      "       'split0_test_score', 'split1_test_score', 'split2_test_score',\n",
      "       'split3_test_score', 'split4_test_score', 'mean_test_score',\n",
      "       'std_test_score', 'rank_test_score'],\n",
      "      dtype='object')\n"
     ]
    }
   ],
   "source": [
    "best_param_svm = grid_svm.best_params_\n",
    "print(best_param_svm)\n",
    "print('\\n')\n",
    "best_pipe_svm = grid_svm.best_estimator_\n",
    "print(best_pipe_svm)\n",
    "print('\\n')\n",
    "result_df_svm = pd.DataFrame.from_dict(grid_svm.cv_results_, orient='columns')\n",
    "print(result_df_svm.columns)"
   ]
  },
  {
   "cell_type": "markdown",
   "metadata": {},
   "source": [
    "## DECISION TREE"
   ]
  },
  {
   "cell_type": "code",
   "execution_count": 235,
   "metadata": {},
   "outputs": [],
   "source": [
    "param_dt = {\n",
    "    'transformer__scaler' : [StandardScaler(), MinMaxScaler()],\n",
    "    'classifier__max_depth' : [3,4,5,6,7,8]\n",
    "}"
   ]
  },
  {
   "cell_type": "code",
   "execution_count": 236,
   "metadata": {},
   "outputs": [],
   "source": [
    "grid_dt = GridSearchCV(pipe_dt, param_dt, cv=5).fit(X_train, y_train)"
   ]
  },
  {
   "cell_type": "code",
   "execution_count": 237,
   "metadata": {},
   "outputs": [
    {
     "name": "stdout",
     "output_type": "stream",
     "text": [
      "Train Set Score :  0.8483516483516483\n",
      "Test Set Score :  0.8384615384615385\n"
     ]
    }
   ],
   "source": [
    "print('Train Set Score : ', grid_dt.score(X_train, y_train))\n",
    "print('Test Set Score : ', grid_dt.score(X_test, y_test))"
   ]
  },
  {
   "cell_type": "code",
   "execution_count": 238,
   "metadata": {},
   "outputs": [
    {
     "name": "stdout",
     "output_type": "stream",
     "text": [
      "{'classifier__max_depth': 4, 'transformer__scaler': StandardScaler()}\n",
      "\n",
      "\n",
      "Pipeline(steps=[('transformer',\n",
      "                 ColumnTransformer(transformers=[('scaler', StandardScaler(),\n",
      "                                                  <sklearn.compose._column_transformer.make_column_selector object at 0x000001E9A89ACF70>),\n",
      "                                                 ('one_hot_encode',\n",
      "                                                  OneHotEncoder(),\n",
      "                                                  ['Item Purchased', 'Category',\n",
      "                                                   'Size', 'Season',\n",
      "                                                   'Shipping Type',\n",
      "                                                   'Payment Method']),\n",
      "                                                 ('label_encode',\n",
      "                                                  FunctionTransformer(func=<function label_encode_column at 0x000001E9ACE8F400>),\n",
      "                                                  ['Discount Applied',\n",
      "                                                   'Promo Code Used',\n",
      "                                                   'Gender'])])),\n",
      "                ('classifier', DecisionTreeClassifier(max_depth=4))])\n",
      "\n",
      "\n",
      "Index(['mean_fit_time', 'std_fit_time', 'mean_score_time', 'std_score_time',\n",
      "       'param_classifier__max_depth', 'param_transformer__scaler', 'params',\n",
      "       'split0_test_score', 'split1_test_score', 'split2_test_score',\n",
      "       'split3_test_score', 'split4_test_score', 'mean_test_score',\n",
      "       'std_test_score', 'rank_test_score'],\n",
      "      dtype='object')\n"
     ]
    }
   ],
   "source": [
    "best_param_dt = grid_dt.best_params_\n",
    "print(best_param_dt)\n",
    "print('\\n')\n",
    "best_pipe_dt = grid_dt.best_estimator_\n",
    "print(best_pipe_dt)\n",
    "print('\\n')\n",
    "result_df_dt = pd.DataFrame.from_dict(grid_dt.cv_results_, orient='columns')\n",
    "print(result_df_dt.columns)"
   ]
  },
  {
   "cell_type": "markdown",
   "metadata": {},
   "source": [
    "## RANDOM FOREST"
   ]
  },
  {
   "cell_type": "code",
   "execution_count": 239,
   "metadata": {},
   "outputs": [],
   "source": [
    "param_rf = {\n",
    "    'transformer__scaler' : [StandardScaler(), MinMaxScaler()],\n",
    "    'classifier__max_depth' : [3,4,5,6,7,8]\n",
    "}"
   ]
  },
  {
   "cell_type": "code",
   "execution_count": 240,
   "metadata": {},
   "outputs": [],
   "source": [
    "grid_rf = GridSearchCV(pipe_rf, param_rf, cv=5).fit(X_train, y_train)"
   ]
  },
  {
   "cell_type": "code",
   "execution_count": 241,
   "metadata": {},
   "outputs": [
    {
     "name": "stdout",
     "output_type": "stream",
     "text": [
      "Train Set Score :  0.8666666666666667\n",
      "Test Set Score :  0.8367521367521368\n"
     ]
    }
   ],
   "source": [
    "print('Train Set Score : ', grid_rf.score(X_train, y_train))\n",
    "print('Test Set Score : ', grid_rf.score(X_test, y_test))"
   ]
  },
  {
   "cell_type": "code",
   "execution_count": 242,
   "metadata": {},
   "outputs": [
    {
     "name": "stdout",
     "output_type": "stream",
     "text": [
      "{'classifier__max_depth': 7, 'transformer__scaler': StandardScaler()}\n",
      "\n",
      "\n",
      "Pipeline(steps=[('transformer',\n",
      "                 ColumnTransformer(transformers=[('scaler', StandardScaler(),\n",
      "                                                  <sklearn.compose._column_transformer.make_column_selector object at 0x000001E9A89AF1F0>),\n",
      "                                                 ('one_hot_encode',\n",
      "                                                  OneHotEncoder(),\n",
      "                                                  ['Item Purchased', 'Category',\n",
      "                                                   'Size', 'Season',\n",
      "                                                   'Shipping Type',\n",
      "                                                   'Payment Method']),\n",
      "                                                 ('label_encode',\n",
      "                                                  FunctionTransformer(func=<function label_encode_column at 0x000001E9ACE8F400>),\n",
      "                                                  ['Discount Applied',\n",
      "                                                   'Promo Code Used',\n",
      "                                                   'Gender'])])),\n",
      "                ('classifier', RandomForestClassifier(max_depth=7))])\n",
      "\n",
      "\n",
      "Index(['mean_fit_time', 'std_fit_time', 'mean_score_time', 'std_score_time',\n",
      "       'param_classifier__max_depth', 'param_transformer__scaler', 'params',\n",
      "       'split0_test_score', 'split1_test_score', 'split2_test_score',\n",
      "       'split3_test_score', 'split4_test_score', 'mean_test_score',\n",
      "       'std_test_score', 'rank_test_score'],\n",
      "      dtype='object')\n"
     ]
    }
   ],
   "source": [
    "best_param_rf = grid_rf.best_params_\n",
    "print(best_param_rf)\n",
    "print('\\n')\n",
    "best_pipe_rf = grid_rf.best_estimator_\n",
    "print(best_pipe_rf)\n",
    "print('\\n')\n",
    "result_df_rf = pd.DataFrame.from_dict(grid_rf.cv_results_, orient='columns')\n",
    "print(result_df_rf.columns)"
   ]
  },
  {
   "cell_type": "markdown",
   "metadata": {},
   "source": [
    "## XGBOOST"
   ]
  },
  {
   "cell_type": "code",
   "execution_count": 243,
   "metadata": {},
   "outputs": [],
   "source": [
    "param_xgb = {\n",
    "    'transformer__scaler' : [StandardScaler(), MinMaxScaler()],\n",
    "    'classifier__max_depth' : [3,4,5,6,7,8]\n",
    "}"
   ]
  },
  {
   "cell_type": "code",
   "execution_count": 244,
   "metadata": {},
   "outputs": [],
   "source": [
    "grid_xgb = GridSearchCV(pipe_xgb, param_xgb, cv=5).fit(X_train, y_train)"
   ]
  },
  {
   "cell_type": "code",
   "execution_count": 245,
   "metadata": {},
   "outputs": [
    {
     "name": "stdout",
     "output_type": "stream",
     "text": [
      "Train Set Score :  0.9974358974358974\n",
      "Test Set Score :  0.8162393162393162\n"
     ]
    }
   ],
   "source": [
    "print('Train Set Score : ', grid_xgb.score(X_train, y_train))\n",
    "print('Test Set Score : ', grid_xgb.score(X_test, y_test))"
   ]
  },
  {
   "cell_type": "code",
   "execution_count": 246,
   "metadata": {},
   "outputs": [
    {
     "name": "stdout",
     "output_type": "stream",
     "text": [
      "{'classifier__max_depth': 5, 'transformer__scaler': StandardScaler()}\n",
      "\n",
      "\n",
      "Pipeline(steps=[('transformer',\n",
      "                 ColumnTransformer(transformers=[('scaler', StandardScaler(),\n",
      "                                                  <sklearn.compose._column_transformer.make_column_selector object at 0x000001E9AD470E20>),\n",
      "                                                 ('one_hot_encode',\n",
      "                                                  OneHotEncoder(),\n",
      "                                                  ['Item Purchased', 'Category',\n",
      "                                                   'Size', 'Season',\n",
      "                                                   'Shipping Type',\n",
      "                                                   'Payment Method']),\n",
      "                                                 ('label_encode',\n",
      "                                                  FunctionTransformer(func=<function label_encode_...\n",
      "                               feature_types=None, gamma=None, grow_policy=None,\n",
      "                               importance_type=None,\n",
      "                               interaction_constraints=None, learning_rate=None,\n",
      "                               max_bin=None, max_cat_threshold=None,\n",
      "                               max_cat_to_onehot=None, max_delta_step=None,\n",
      "                               max_depth=5, max_leaves=None,\n",
      "                               min_child_weight=None, missing=nan,\n",
      "                               monotone_constraints=None, multi_strategy=None,\n",
      "                               n_estimators=None, n_jobs=None,\n",
      "                               num_parallel_tree=None, random_state=None, ...))])\n",
      "\n",
      "\n",
      "Index(['mean_fit_time', 'std_fit_time', 'mean_score_time', 'std_score_time',\n",
      "       'param_classifier__max_depth', 'param_transformer__scaler', 'params',\n",
      "       'split0_test_score', 'split1_test_score', 'split2_test_score',\n",
      "       'split3_test_score', 'split4_test_score', 'mean_test_score',\n",
      "       'std_test_score', 'rank_test_score'],\n",
      "      dtype='object')\n"
     ]
    }
   ],
   "source": [
    "best_param_xgb = grid_xgb.best_params_\n",
    "print(best_param_xgb)\n",
    "print('\\n')\n",
    "best_pipe_xgb = grid_xgb.best_estimator_\n",
    "print(best_pipe_xgb)\n",
    "print('\\n')\n",
    "result_df_xgb = pd.DataFrame.from_dict(grid_xgb.cv_results_, orient='columns')\n",
    "print(result_df_xgb.columns)"
   ]
  },
  {
   "cell_type": "markdown",
   "metadata": {},
   "source": [
    "# MODEL EVALUATION AFTER HYPERPARAMETER TUNING"
   ]
  },
  {
   "cell_type": "markdown",
   "metadata": {},
   "source": [
    "First i'm going to show the 'Classification Report' and 'Cross Validation' for each model like i did in 'MODEL EVALUATION'.\n",
    "\n",
    "And at the end of this Process i will compare each peformance of the model."
   ]
  },
  {
   "cell_type": "markdown",
   "metadata": {},
   "source": [
    "## KNN"
   ]
  },
  {
   "cell_type": "code",
   "execution_count": 247,
   "metadata": {},
   "outputs": [
    {
     "data": {
      "text/plain": [
       "array([0, 1, 0, ..., 1, 0, 0])"
      ]
     },
     "execution_count": 247,
     "metadata": {},
     "output_type": "execute_result"
    }
   ],
   "source": [
    "y_best_knn_pred = best_pipe_knn.predict(X_test)\n",
    "y_best_knn_pred"
   ]
  },
  {
   "cell_type": "code",
   "execution_count": 248,
   "metadata": {},
   "outputs": [
    {
     "name": "stdout",
     "output_type": "stream",
     "text": [
      "               precision    recall  f1-score   support\n",
      "\n",
      "Not Subscribe       0.89      0.85      0.87       868\n",
      "    Subscribe       0.62      0.69      0.65       302\n",
      "\n",
      "     accuracy                           0.81      1170\n",
      "    macro avg       0.75      0.77      0.76      1170\n",
      " weighted avg       0.82      0.81      0.81      1170\n",
      "\n"
     ]
    }
   ],
   "source": [
    "target = ['Not Subscribe', 'Subscribe']\n",
    "print(classification_report(y_test, y_best_knn_pred, target_names = target))"
   ]
  },
  {
   "cell_type": "markdown",
   "metadata": {},
   "source": [
    "### CROSS VALIDATION"
   ]
  },
  {
   "cell_type": "code",
   "execution_count": 249,
   "metadata": {},
   "outputs": [
    {
     "name": "stdout",
     "output_type": "stream",
     "text": [
      "F1 Score - All - Cross Validation  :  [0.70633397 0.65891473 0.66138614]\n",
      "F1 Score - Mean - Cross Validation :  0.6755449468082103\n",
      "F1 Score - Std - Cross Validation  :  0.02179449583542908\n",
      "F1 Score - Range of Test-Set       :  0.6537504509727813 - 0.6973394426436393\n"
     ]
    }
   ],
   "source": [
    "f1_train_cross_val = cross_val_score(best_pipe_knn,\n",
    "                                     X_train,\n",
    "                                     y_train,\n",
    "                                     cv=3,\n",
    "                                     scoring=\"f1\")\n",
    "\n",
    "print('F1 Score - All - Cross Validation  : ', f1_train_cross_val)\n",
    "print('F1 Score - Mean - Cross Validation : ', f1_train_cross_val.mean())\n",
    "print('F1 Score - Std - Cross Validation  : ', f1_train_cross_val.std())\n",
    "print('F1 Score - Range of Test-Set       : ', (f1_train_cross_val.mean()-f1_train_cross_val.std()) , '-', (f1_train_cross_val.mean()+f1_train_cross_val.std()))"
   ]
  },
  {
   "cell_type": "markdown",
   "metadata": {},
   "source": [
    "## SVM"
   ]
  },
  {
   "cell_type": "code",
   "execution_count": 250,
   "metadata": {},
   "outputs": [
    {
     "data": {
      "text/plain": [
       "array([0, 1, 0, ..., 1, 0, 0])"
      ]
     },
     "execution_count": 250,
     "metadata": {},
     "output_type": "execute_result"
    }
   ],
   "source": [
    "y_best_svm_pred = best_pipe_svm.predict(X_test)\n",
    "y_best_svm_pred"
   ]
  },
  {
   "cell_type": "code",
   "execution_count": 251,
   "metadata": {},
   "outputs": [
    {
     "name": "stdout",
     "output_type": "stream",
     "text": [
      "               precision    recall  f1-score   support\n",
      "\n",
      "Not Subscribe       1.00      0.78      0.87       868\n",
      "    Subscribe       0.61      1.00      0.76       302\n",
      "\n",
      "     accuracy                           0.84      1170\n",
      "    macro avg       0.81      0.89      0.82      1170\n",
      " weighted avg       0.90      0.84      0.84      1170\n",
      "\n"
     ]
    }
   ],
   "source": [
    "target = ['Not Subscribe', 'Subscribe']\n",
    "print(classification_report(y_test, y_best_svm_pred, target_names = target))"
   ]
  },
  {
   "cell_type": "markdown",
   "metadata": {},
   "source": [
    "### CROSS VALIDATION"
   ]
  },
  {
   "cell_type": "code",
   "execution_count": 252,
   "metadata": {},
   "outputs": [
    {
     "name": "stdout",
     "output_type": "stream",
     "text": [
      "F1 Score - All - Cross Validation  :  [0.7788162  0.77691108 0.77399381]\n",
      "F1 Score - Mean - Cross Validation :  0.7765736946231802\n",
      "F1 Score - Std - Cross Validation  :  0.0019831346227561514\n",
      "F1 Score - Range of Test-Set       :  0.774590560000424 - 0.7785568292459363\n"
     ]
    }
   ],
   "source": [
    "f1_train_cross_val = cross_val_score(best_pipe_svm,\n",
    "                                     X_train,\n",
    "                                     y_train,\n",
    "                                     cv=3,\n",
    "                                     scoring=\"f1\")\n",
    "\n",
    "print('F1 Score - All - Cross Validation  : ', f1_train_cross_val)\n",
    "print('F1 Score - Mean - Cross Validation : ', f1_train_cross_val.mean())\n",
    "print('F1 Score - Std - Cross Validation  : ', f1_train_cross_val.std())\n",
    "print('F1 Score - Range of Test-Set       : ', (f1_train_cross_val.mean()-f1_train_cross_val.std()) , '-', (f1_train_cross_val.mean()+f1_train_cross_val.std()))"
   ]
  },
  {
   "cell_type": "markdown",
   "metadata": {},
   "source": [
    "## DECISION TREE"
   ]
  },
  {
   "cell_type": "code",
   "execution_count": 253,
   "metadata": {},
   "outputs": [
    {
     "data": {
      "text/plain": [
       "array([0, 1, 0, ..., 1, 0, 0])"
      ]
     },
     "execution_count": 253,
     "metadata": {},
     "output_type": "execute_result"
    }
   ],
   "source": [
    "y_best_dt_pred = best_pipe_dt.predict(X_test)\n",
    "y_best_dt_pred"
   ]
  },
  {
   "cell_type": "code",
   "execution_count": 254,
   "metadata": {},
   "outputs": [
    {
     "name": "stdout",
     "output_type": "stream",
     "text": [
      "               precision    recall  f1-score   support\n",
      "\n",
      "Not Subscribe       0.99      0.79      0.88       868\n",
      "    Subscribe       0.62      0.99      0.76       302\n",
      "\n",
      "     accuracy                           0.84      1170\n",
      "    macro avg       0.81      0.89      0.82      1170\n",
      " weighted avg       0.90      0.84      0.85      1170\n",
      "\n"
     ]
    }
   ],
   "source": [
    "target = ['Not Subscribe', 'Subscribe']\n",
    "print(classification_report(y_test, y_best_dt_pred, target_names = target))"
   ]
  },
  {
   "cell_type": "markdown",
   "metadata": {},
   "source": [
    "### CROSS VALIDATION"
   ]
  },
  {
   "cell_type": "code",
   "execution_count": 255,
   "metadata": {},
   "outputs": [
    {
     "name": "stdout",
     "output_type": "stream",
     "text": [
      "F1 Score - All - Cross Validation  :  [0.76825397 0.76677316 0.76825397]\n",
      "F1 Score - Mean - Cross Validation :  0.7677603664824112\n",
      "F1 Score - Std - Cross Validation  :  0.0006980583197474196\n",
      "F1 Score - Range of Test-Set       :  0.7670623081626637 - 0.7684584248021586\n"
     ]
    }
   ],
   "source": [
    "f1_train_cross_val = cross_val_score(best_pipe_dt,\n",
    "                                     X_train,\n",
    "                                     y_train,\n",
    "                                     cv=3,\n",
    "                                     scoring=\"f1\")\n",
    "\n",
    "print('F1 Score - All - Cross Validation  : ', f1_train_cross_val)\n",
    "print('F1 Score - Mean - Cross Validation : ', f1_train_cross_val.mean())\n",
    "print('F1 Score - Std - Cross Validation  : ', f1_train_cross_val.std())\n",
    "print('F1 Score - Range of Test-Set       : ', (f1_train_cross_val.mean()-f1_train_cross_val.std()) , '-', (f1_train_cross_val.mean()+f1_train_cross_val.std()))"
   ]
  },
  {
   "cell_type": "markdown",
   "metadata": {},
   "source": [
    "## RANDOM FOREST"
   ]
  },
  {
   "cell_type": "code",
   "execution_count": 256,
   "metadata": {},
   "outputs": [
    {
     "data": {
      "text/plain": [
       "array([0, 1, 0, ..., 1, 0, 0])"
      ]
     },
     "execution_count": 256,
     "metadata": {},
     "output_type": "execute_result"
    }
   ],
   "source": [
    "y_best_rf_pred = best_pipe_rf.predict(X_test)\n",
    "y_best_rf_pred"
   ]
  },
  {
   "cell_type": "code",
   "execution_count": 257,
   "metadata": {},
   "outputs": [
    {
     "name": "stdout",
     "output_type": "stream",
     "text": [
      "               precision    recall  f1-score   support\n",
      "\n",
      "Not Subscribe       1.00      0.78      0.88       868\n",
      "    Subscribe       0.61      0.99      0.76       302\n",
      "\n",
      "     accuracy                           0.84      1170\n",
      "    macro avg       0.81      0.89      0.82      1170\n",
      " weighted avg       0.90      0.84      0.85      1170\n",
      "\n"
     ]
    }
   ],
   "source": [
    "target = ['Not Subscribe', 'Subscribe']\n",
    "print(classification_report(y_test, y_best_rf_pred, target_names = target))"
   ]
  },
  {
   "cell_type": "markdown",
   "metadata": {},
   "source": [
    "### CROSS VALIDATION"
   ]
  },
  {
   "cell_type": "code",
   "execution_count": 258,
   "metadata": {},
   "outputs": [
    {
     "name": "stdout",
     "output_type": "stream",
     "text": [
      "F1 Score - All - Cross Validation  :  [0.7576244  0.76461295 0.76923077]\n",
      "F1 Score - Mean - Cross Validation :  0.7638227071636732\n",
      "F1 Score - Std - Cross Validation  :  0.00477111661464654\n",
      "F1 Score - Range of Test-Set       :  0.7590515905490266 - 0.7685938237783198\n"
     ]
    }
   ],
   "source": [
    "f1_train_cross_val = cross_val_score(best_pipe_rf,\n",
    "                                     X_train,\n",
    "                                     y_train,\n",
    "                                     cv=3,\n",
    "                                     scoring=\"f1\")\n",
    "\n",
    "print('F1 Score - All - Cross Validation  : ', f1_train_cross_val)\n",
    "print('F1 Score - Mean - Cross Validation : ', f1_train_cross_val.mean())\n",
    "print('F1 Score - Std - Cross Validation  : ', f1_train_cross_val.std())\n",
    "print('F1 Score - Range of Test-Set       : ', (f1_train_cross_val.mean()-f1_train_cross_val.std()) , '-', (f1_train_cross_val.mean()+f1_train_cross_val.std()))"
   ]
  },
  {
   "cell_type": "markdown",
   "metadata": {},
   "source": [
    "## XGBoost"
   ]
  },
  {
   "cell_type": "code",
   "execution_count": 259,
   "metadata": {},
   "outputs": [
    {
     "data": {
      "text/plain": [
       "array([0, 1, 0, ..., 0, 0, 0])"
      ]
     },
     "execution_count": 259,
     "metadata": {},
     "output_type": "execute_result"
    }
   ],
   "source": [
    "y_best_xgb_pred = best_pipe_xgb.predict(X_test)\n",
    "y_best_xgb_pred"
   ]
  },
  {
   "cell_type": "code",
   "execution_count": 260,
   "metadata": {},
   "outputs": [
    {
     "name": "stdout",
     "output_type": "stream",
     "text": [
      "               precision    recall  f1-score   support\n",
      "\n",
      "Not Subscribe       0.90      0.84      0.87       868\n",
      "    Subscribe       0.62      0.75      0.68       302\n",
      "\n",
      "     accuracy                           0.82      1170\n",
      "    macro avg       0.76      0.79      0.77      1170\n",
      " weighted avg       0.83      0.82      0.82      1170\n",
      "\n"
     ]
    }
   ],
   "source": [
    "target = ['Not Subscribe', 'Subscribe']\n",
    "print(classification_report(y_test, y_best_xgb_pred, target_names = target))"
   ]
  },
  {
   "cell_type": "markdown",
   "metadata": {},
   "source": [
    "### CROSS VALIDATION"
   ]
  },
  {
   "cell_type": "code",
   "execution_count": 261,
   "metadata": {},
   "outputs": [
    {
     "name": "stdout",
     "output_type": "stream",
     "text": [
      "F1 Score - All - Cross Validation  :  [0.67917448 0.68181818 0.70609982]\n",
      "F1 Score - Mean - Cross Validation :  0.689030827009277\n",
      "F1 Score - Std - Cross Validation  :  0.01211775699163111\n",
      "F1 Score - Range of Test-Set       :  0.6769130700176459 - 0.7011485840009081\n"
     ]
    }
   ],
   "source": [
    "f1_train_cross_val = cross_val_score(best_pipe_xgb,\n",
    "                                     X_train,\n",
    "                                     y_train,\n",
    "                                     cv=3,\n",
    "                                     scoring=\"f1\")\n",
    "\n",
    "print('F1 Score - All - Cross Validation  : ', f1_train_cross_val)\n",
    "print('F1 Score - Mean - Cross Validation : ', f1_train_cross_val.mean())\n",
    "print('F1 Score - Std - Cross Validation  : ', f1_train_cross_val.std())\n",
    "print('F1 Score - Range of Test-Set       : ', (f1_train_cross_val.mean()-f1_train_cross_val.std()) , '-', (f1_train_cross_val.mean()+f1_train_cross_val.std()))"
   ]
  },
  {
   "cell_type": "markdown",
   "metadata": {},
   "source": [
    "## COMPARING EACH ESTIMATOR"
   ]
  },
  {
   "cell_type": "markdown",
   "metadata": {},
   "source": [
    "Here i will compare each estimator with their best parameter."
   ]
  },
  {
   "cell_type": "code",
   "execution_count": 262,
   "metadata": {},
   "outputs": [],
   "source": [
    "models = {\n",
    "    'KNN' : best_pipe_knn,\n",
    "    'SVM' : best_pipe_svm,\n",
    "    'Decision Tree' : best_pipe_dt,\n",
    "    'Random Forest' : best_pipe_rf,\n",
    "    'XGBoost' : best_pipe_xgb\n",
    "}\n",
    "\n",
    "metrics = {\n",
    "    'Accuracy' : accuracy_score,\n",
    "    'F1-Score' : f1_score,\n",
    "}\n",
    "\n",
    "df_model = pd.DataFrame(columns = models.keys(), index=['Accuracy', 'F1-Score'])\n",
    "\n",
    "for metric in metrics.keys():\n",
    "  for model in models.keys():\n",
    "    df_model.loc[metric, model] = metrics[metric](y_test, models[model].predict(X_test))"
   ]
  },
  {
   "cell_type": "code",
   "execution_count": 263,
   "metadata": {},
   "outputs": [
    {
     "data": {
      "text/html": [
       "<div>\n",
       "<style scoped>\n",
       "    .dataframe tbody tr th:only-of-type {\n",
       "        vertical-align: middle;\n",
       "    }\n",
       "\n",
       "    .dataframe tbody tr th {\n",
       "        vertical-align: top;\n",
       "    }\n",
       "\n",
       "    .dataframe thead th {\n",
       "        text-align: right;\n",
       "    }\n",
       "</style>\n",
       "<table border=\"1\" class=\"dataframe\">\n",
       "  <thead>\n",
       "    <tr style=\"text-align: right;\">\n",
       "      <th></th>\n",
       "      <th>KNN</th>\n",
       "      <th>SVM</th>\n",
       "      <th>Decision Tree</th>\n",
       "      <th>Random Forest</th>\n",
       "      <th>XGBoost</th>\n",
       "    </tr>\n",
       "  </thead>\n",
       "  <tbody>\n",
       "    <tr>\n",
       "      <th>Accuracy</th>\n",
       "      <td>0.810256</td>\n",
       "      <td>0.835043</td>\n",
       "      <td>0.838462</td>\n",
       "      <td>0.836752</td>\n",
       "      <td>0.816239</td>\n",
       "    </tr>\n",
       "    <tr>\n",
       "      <th>F1-Score</th>\n",
       "      <td>0.653125</td>\n",
       "      <td>0.757842</td>\n",
       "      <td>0.759236</td>\n",
       "      <td>0.758534</td>\n",
       "      <td>0.676692</td>\n",
       "    </tr>\n",
       "  </tbody>\n",
       "</table>\n",
       "</div>"
      ],
      "text/plain": [
       "               KNN       SVM Decision Tree Random Forest   XGBoost\n",
       "Accuracy  0.810256  0.835043      0.838462      0.836752  0.816239\n",
       "F1-Score  0.653125  0.757842      0.759236      0.758534  0.676692"
      ]
     },
     "execution_count": 263,
     "metadata": {},
     "output_type": "execute_result"
    }
   ],
   "source": [
    "df_model"
   ]
  },
  {
   "cell_type": "markdown",
   "metadata": {},
   "source": [
    "- As we can see, the best estimator that can be used for this datasets based on F1-Scores is **'Decision Tree'** followed by 'Random Forest' and 'SVM' with slight difference."
   ]
  },
  {
   "cell_type": "markdown",
   "metadata": {},
   "source": [
    "# MODEL SAVING"
   ]
  },
  {
   "cell_type": "markdown",
   "metadata": {},
   "source": [
    "I going to save Decision Tree Model with this parameter below."
   ]
  },
  {
   "cell_type": "code",
   "execution_count": 265,
   "metadata": {},
   "outputs": [
    {
     "name": "stdout",
     "output_type": "stream",
     "text": [
      "Pipeline(steps=[('transformer',\n",
      "                 ColumnTransformer(transformers=[('scaler', StandardScaler(),\n",
      "                                                  <sklearn.compose._column_transformer.make_column_selector object at 0x000001E9A89ACF70>),\n",
      "                                                 ('one_hot_encode',\n",
      "                                                  OneHotEncoder(),\n",
      "                                                  ['Item Purchased', 'Category',\n",
      "                                                   'Size', 'Season',\n",
      "                                                   'Shipping Type',\n",
      "                                                   'Payment Method']),\n",
      "                                                 ('label_encode',\n",
      "                                                  FunctionTransformer(func=<function label_encode_column at 0x000001E9ACE8F400>),\n",
      "                                                  ['Discount Applied',\n",
      "                                                   'Promo Code Used',\n",
      "                                                   'Gender'])])),\n",
      "                ('classifier', DecisionTreeClassifier(max_depth=4))])\n"
     ]
    }
   ],
   "source": [
    "print(best_pipe_dt)"
   ]
  },
  {
   "cell_type": "code",
   "execution_count": 264,
   "metadata": {},
   "outputs": [],
   "source": [
    "pickle.dump(best_pipe_dt, open('best_model_dt.pkl', 'wb'))"
   ]
  },
  {
   "cell_type": "markdown",
   "metadata": {
    "vscode": {
     "languageId": "plaintext"
    }
   },
   "source": [
    "# MODEL INFERENCE"
   ]
  },
  {
   "cell_type": "markdown",
   "metadata": {},
   "source": [
    "To see the Model Inference, open the 'Inference' Notebook"
   ]
  },
  {
   "cell_type": "markdown",
   "metadata": {},
   "source": [
    "# CONCEPTUAL PROBLEMS"
   ]
  },
  {
   "cell_type": "markdown",
   "metadata": {},
   "source": [
    "#### '1. Jelaskan latar belakang adanya bagging dan cara kerja bagging ! (Explain why we need bagging and how it works !)'"
   ]
  },
  {
   "cell_type": "markdown",
   "metadata": {},
   "source": [
    "**Why we need Bagging ?**\n",
    "\n",
    "We use bagging if :\n",
    "- Model have high variance.\n",
    "- Model is overfitting.\n",
    "- We want to increase accuracy.\n",
    "\n",
    "**How it works ?**\n",
    "\n",
    "I will make an example how it works.\n",
    "- Lets imagine we have **4 baskets** and **4 types Fruits (10 Apple, 8 Orange, 25 Melon, 5 Grape)**.\n",
    "- Then we put all of them in first basket.\n",
    "- After that we **separates Apple from the rest of fruits**.\n",
    "- Now we left 10 Apple in fist basket.\n",
    "- Then go to second basket fill it with 3 types of fruits.\n",
    "- do the same thing like before. Seperates 1 fruits from the rest.\n",
    "- **Repeat until every basket filled with 1 type of fruit.**\n",
    "\n",
    "That's roughly how bagging works."
   ]
  },
  {
   "cell_type": "markdown",
   "metadata": {},
   "source": [
    "#### '2. Jelaskan perbedaan cara kerja algoritma Random Forest dengan algoritma boosting yang Anda pilih ! (Explain the differences between how Random Forest Algorithm works and choosen Boosting algorithm !)'"
   ]
  },
  {
   "cell_type": "markdown",
   "metadata": {},
   "source": [
    "1. Random Forest :\n",
    "- It will make a forest (n_estimator) with the same way for every forest, then it will take the final decision for classifying by the majority of results of other Trees. \n",
    "\n",
    "2. XGBoost :\n",
    "- As for XGBoost it will try to correct the mistake from result for previous Tree. So the last Tree will be the last result."
   ]
  },
  {
   "cell_type": "markdown",
   "metadata": {},
   "source": [
    "#### '3. Jelaskan apa yang dimaksud dengan Cross Validation ! (Explain what is Cross Validation !)'"
   ]
  },
  {
   "cell_type": "markdown",
   "metadata": {},
   "source": [
    "Cross Validation is a technique for model evaluations, where we split data into folds then we train and test the data between each folds.\n",
    "\n",
    "**How it works**\n",
    "- lets say we have 50 data.\n",
    "- First we split it into folds, we going to use 5 folds.\n",
    "- it become [10, 10, 10, 10, 10] (5 folds). Between each of this 10, there will be 1 validation data and the rest (9) is training data.\n",
    "- We will test the validation data with the training data. The output will be 'Cross Validation Value' which in this project, like i explain before in 'MODEL EVALUATION', is F1-Scores.\n",
    "- Do this for every folds (split).\n",
    "- Then we get 5 F1-Scores because we split it 5 times. In this project i use 3 folds."
   ]
  },
  {
   "cell_type": "markdown",
   "metadata": {},
   "source": [
    "# CONCLUSION"
   ]
  },
  {
   "cell_type": "markdown",
   "metadata": {},
   "source": [
    "1. Using Hyperparameter Tuning can increase the prediction evaluation.\n",
    "2. Best model that can be used for this dataset is Decision Tree. Followed by Random Forest and SVM.\n",
    "3. After Deployment, I tried to predict using model with same data as the real one which have 'Subscription Status' == Yes. **But the prediction result from model is different from the real one.** \n",
    "\n",
    "**INSIGHT :**\n",
    "\n",
    "- That mean **the model is may not** good enough for pedicting this datasets.\n",
    "- If we only look from the F1-score evaluation for the model (0.759236), it doesn't look that bad.\n",
    "- But once again, no matter what input i used on demo the result always 'Not Subscribe'.\n",
    "- This may happen because the training data mostly containt 'Not Subscribe'. **The data is imbalance.**\n",
    "- **Or maybe because the correlation between columns is very low as we can see at EDA.**\n",
    "\n",
    "4. prediction on number 3 also have been done in 'Inference.ipynb'"
   ]
  }
 ],
 "metadata": {
  "kernelspec": {
   "display_name": "myenv123",
   "language": "python",
   "name": "python3"
  },
  "language_info": {
   "codemirror_mode": {
    "name": "ipython",
    "version": 3
   },
   "file_extension": ".py",
   "mimetype": "text/x-python",
   "name": "python",
   "nbconvert_exporter": "python",
   "pygments_lexer": "ipython3",
   "version": "3.10.15"
  }
 },
 "nbformat": 4,
 "nbformat_minor": 2
}
